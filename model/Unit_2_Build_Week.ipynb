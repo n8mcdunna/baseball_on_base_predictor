{
  "nbformat": 4,
  "nbformat_minor": 0,
  "metadata": {
    "colab": {
      "name": "Unit_2_Build_Week.ipynb",
      "provenance": []
    },
    "kernelspec": {
      "name": "python3",
      "display_name": "Python 3"
    }
  },
  "cells": [
    {
      "cell_type": "markdown",
      "metadata": {
        "id": "mmm5zZapzlrr"
      },
      "source": [
        "# Import packages"
      ]
    },
    {
      "cell_type": "code",
      "metadata": {
        "id": "qx3zG9WT04zc",
        "outputId": "a2887c46-81e0-4561-c65f-52b60d3827d5",
        "colab": {
          "base_uri": "https://localhost:8080/",
          "height": 326
        }
      },
      "source": [
        "from google.colab import files\n",
        "import pandas as pd\n",
        "import numpy as np\n",
        "import matplotlib.pyplot as plt\n",
        "!pip install category_encoders\n",
        "from category_encoders import OrdinalEncoder, OneHotEncoder\n",
        "from pandas_profiling import ProfileReport\n",
        "from sklearn.model_selection import train_test_split, cross_val_predict, cross_val_score\n",
        "from sklearn.pipeline import make_pipeline\n",
        "from sklearn.ensemble import RandomForestClassifier\n",
        "from sklearn.linear_model import LogisticRegression\n",
        "from xgboost import XGBClassifier\n",
        "from sklearn.metrics import roc_curve, roc_auc_score\n",
        "from sklearn.inspection import permutation_importance\n",
        "from joblib import dump"
      ],
      "execution_count": null,
      "outputs": [
        {
          "output_type": "stream",
          "text": [
            "Collecting category_encoders\n",
            "\u001b[?25l  Downloading https://files.pythonhosted.org/packages/44/57/fcef41c248701ee62e8325026b90c432adea35555cbc870aff9cfba23727/category_encoders-2.2.2-py2.py3-none-any.whl (80kB)\n",
            "\r\u001b[K     |████                            | 10kB 15.2MB/s eta 0:00:01\r\u001b[K     |████████▏                       | 20kB 2.0MB/s eta 0:00:01\r\u001b[K     |████████████▏                   | 30kB 2.5MB/s eta 0:00:01\r\u001b[K     |████████████████▎               | 40kB 2.9MB/s eta 0:00:01\r\u001b[K     |████████████████████▎           | 51kB 2.4MB/s eta 0:00:01\r\u001b[K     |████████████████████████▍       | 61kB 2.7MB/s eta 0:00:01\r\u001b[K     |████████████████████████████▍   | 71kB 2.9MB/s eta 0:00:01\r\u001b[K     |████████████████████████████████| 81kB 2.5MB/s \n",
            "\u001b[?25hRequirement already satisfied: patsy>=0.5.1 in /usr/local/lib/python3.6/dist-packages (from category_encoders) (0.5.1)\n",
            "Requirement already satisfied: numpy>=1.14.0 in /usr/local/lib/python3.6/dist-packages (from category_encoders) (1.18.5)\n",
            "Requirement already satisfied: scipy>=1.0.0 in /usr/local/lib/python3.6/dist-packages (from category_encoders) (1.4.1)\n",
            "Requirement already satisfied: pandas>=0.21.1 in /usr/local/lib/python3.6/dist-packages (from category_encoders) (1.1.2)\n",
            "Requirement already satisfied: scikit-learn>=0.20.0 in /usr/local/lib/python3.6/dist-packages (from category_encoders) (0.22.2.post1)\n",
            "Requirement already satisfied: statsmodels>=0.9.0 in /usr/local/lib/python3.6/dist-packages (from category_encoders) (0.10.2)\n",
            "Requirement already satisfied: six in /usr/local/lib/python3.6/dist-packages (from patsy>=0.5.1->category_encoders) (1.15.0)\n",
            "Requirement already satisfied: python-dateutil>=2.7.3 in /usr/local/lib/python3.6/dist-packages (from pandas>=0.21.1->category_encoders) (2.8.1)\n",
            "Requirement already satisfied: pytz>=2017.2 in /usr/local/lib/python3.6/dist-packages (from pandas>=0.21.1->category_encoders) (2018.9)\n",
            "Requirement already satisfied: joblib>=0.11 in /usr/local/lib/python3.6/dist-packages (from scikit-learn>=0.20.0->category_encoders) (0.16.0)\n",
            "Installing collected packages: category-encoders\n",
            "Successfully installed category-encoders-2.2.2\n"
          ],
          "name": "stdout"
        },
        {
          "output_type": "stream",
          "text": [
            "/usr/local/lib/python3.6/dist-packages/statsmodels/tools/_testing.py:19: FutureWarning: pandas.util.testing is deprecated. Use the functions in the public API at pandas.testing instead.\n",
            "  import pandas.util.testing as tm\n"
          ],
          "name": "stderr"
        }
      ]
    },
    {
      "cell_type": "markdown",
      "metadata": {
        "id": "xBk9mEljROPS"
      },
      "source": [
        "# Load Data"
      ]
    },
    {
      "cell_type": "code",
      "metadata": {
        "id": "fF_UHVRONzCy"
      },
      "source": [
        "# this is sa t"
      ],
      "execution_count": null,
      "outputs": []
    },
    {
      "cell_type": "code",
      "metadata": {
        "id": "4adz40hyD4VJ",
        "outputId": "84ecf084-b46b-410a-855f-0d302a40b150",
        "colab": {
          "resources": {
            "http://localhost:8080/nbextensions/google.colab/files.js": {
              "data": "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",
              "ok": true,
              "headers": [
                [
                  "content-type",
                  "application/javascript"
                ]
              ],
              "status": 200,
              "status_text": ""
            }
          },
          "base_uri": "https://localhost:8080/",
          "height": 276
        }
      },
      "source": [
        "!pip install -q kaggle\n",
        "files.upload()\n",
        "!mkdir ~/.kaggle\n",
        "!cp kaggle.json ~/.kaggle/\n",
        "!chmod 600 ~/.kaggle/kaggle.json\n",
        "!kaggle datasets download -d'pschale/mlb-pitch-data-20152018'\n",
        "!mkdir data\n",
        "!unzip mlb-pitch-data-20152018.zip -d data"
      ],
      "execution_count": null,
      "outputs": [
        {
          "output_type": "display_data",
          "data": {
            "text/html": [
              "\n",
              "     <input type=\"file\" id=\"files-4bf1f332-23dc-4cc5-b823-7363e9840e3a\" name=\"files[]\" multiple disabled\n",
              "        style=\"border:none\" />\n",
              "     <output id=\"result-4bf1f332-23dc-4cc5-b823-7363e9840e3a\">\n",
              "      Upload widget is only available when the cell has been executed in the\n",
              "      current browser session. Please rerun this cell to enable.\n",
              "      </output>\n",
              "      <script src=\"/nbextensions/google.colab/files.js\"></script> "
            ],
            "text/plain": [
              "<IPython.core.display.HTML object>"
            ]
          },
          "metadata": {
            "tags": []
          }
        },
        {
          "output_type": "stream",
          "text": [
            "Saving kaggle.json to kaggle.json\n",
            "Downloading mlb-pitch-data-20152018.zip to /content\n",
            " 99% 368M/370M [00:03<00:00, 98.7MB/s]\n",
            "100% 370M/370M [00:04<00:00, 85.7MB/s]\n",
            "Archive:  mlb-pitch-data-20152018.zip\n",
            "  inflating: data/2019_atbats.csv    \n",
            "  inflating: data/2019_games.csv     \n",
            "  inflating: data/2019_pitches.csv   \n",
            "  inflating: data/atbats.csv         \n",
            "  inflating: data/ejections.csv      \n",
            "  inflating: data/games.csv          \n",
            "  inflating: data/pitches.csv        \n",
            "  inflating: data/player_names.csv   \n"
          ],
          "name": "stdout"
        }
      ]
    },
    {
      "cell_type": "code",
      "metadata": {
        "id": "UxZhnM_RJlzi"
      },
      "source": [
        "pitches = pd.read_csv('data/pitches.csv')\n",
        "games = pd.read_csv('data/games.csv')\n",
        "atbats =  pd.read_csv('data/atbats.csv')\n",
        "player_names = pd.read_csv('data/player_names.csv')"
      ],
      "execution_count": null,
      "outputs": []
    },
    {
      "cell_type": "code",
      "metadata": {
        "id": "Nm8416ocJnmk"
      },
      "source": [
        "df = pd.merge(atbats, games, how= 'inner', on= 'g_id')"
      ],
      "execution_count": null,
      "outputs": []
    },
    {
      "cell_type": "code",
      "metadata": {
        "id": "LN7gLK2hQe1Z"
      },
      "source": [
        "from datetime import datetime\n",
        "date = datetime.strptime(df['date'][0], '%Y-%m-%d')\n",
        "date.day"
      ],
      "execution_count": null,
      "outputs": []
    },
    {
      "cell_type": "markdown",
      "metadata": {
        "id": "iZwKW_i-ruG0"
      },
      "source": [
        "# Wrangling"
      ]
    },
    {
      "cell_type": "code",
      "metadata": {
        "id": "Yv-GTw5rJWue"
      },
      "source": [
        "def wrangle(df):\n",
        "  df = df.copy()\n",
        "\n",
        "  # Sorting at bats into 'on base' or 'out'\n",
        "  df['event'].replace({\n",
        "      'Strikeout': 'Out',\n",
        "      'Groundout': 'Out',\n",
        "      'Walk' : 'On Base',\n",
        "      'Single' : 'On Base',\n",
        "      'Flyout' : 'Out',\n",
        "      'Lineout': 'Out',\n",
        "      'Pop Out' : 'Out',\n",
        "      'Double' : 'On Base',\n",
        "      'Home Run' : 'On Base',\n",
        "      'Forceout' : 'Out',\n",
        "      'Grounded Into DP' : 'Out',\n",
        "      'Field Error' : 'On Base', \n",
        "      'Hit By Pitch': 'On Base',\n",
        "      'Triple' : 'On Base',\n",
        "      'Double Play' : 'Out',\n",
        "      'Intent Walk' : 'On Base',\n",
        "      'Strikeout Double Play' : 'Out',\n",
        "      'Fielders Choice' : 'Out',\n",
        "      'Fielders Choice Out' : 'Out',\n",
        "      'Bunt Pop Out' : 'Out',\n",
        "      'Bunt Groundout' : 'Out',\n",
        "      'Bunt Lineout' : 'Out',\n",
        "      'Runner Out' : 'Out',\n",
        "      'Triple Play' : 'Out',\n",
        "      'Runner Double Play' : 'Out',\n",
        "      'Strikeout - DP': 'Out',\n",
        "      'Batter Interference': 'Out',\n",
        "      'Catcher Interference' : 'On Base'\n",
        "\n",
        "      # ,'Sac Fly': 'Out',\n",
        "      # 'Sac Bunt': 'Out',\n",
        "      # 'Sac Fly DP': 'Out',\n",
        "      # 'Sacrifice Bunt DP': 'Out'\n",
        "  }, inplace= True)\n",
        "\n",
        "  # Filtering out sacrifice flys and bunts\n",
        "  df = df[(df['event'] == 'On Base') | (df['event'] == 'Out')] \n",
        "\n",
        "  # Renaming abbreviated columns\n",
        "  df = df.rename(mapper = {\n",
        "      'ab_id': 'atbat_id',\n",
        "      'event': 'result',\n",
        "      'o': 'outs',\n",
        "      'g_id': 'game_id', \n",
        "      'p_score': 'pitcher_team_score'\n",
        "      }, axis= 1)\n",
        "  \n",
        "  # Making atbats readable\n",
        "  df['atbat_id'] = df['atbat_id'].apply(int) \n",
        "\n",
        "  # Create feature for year, month, day of week\n",
        "  def get_year(data):\n",
        "    return str(data)[:4]\n",
        "  df['year'] = df['game_id'].apply(get_year)\n",
        "\n",
        "  #df = df.set_index('game_id')\n",
        "  \n",
        "  # Creating features and reducing cardinality of wind\n",
        "  def wind_speed(data):\n",
        "    return int(data.split(',')[0].strip()[:-4])\n",
        "  def wind_direction(data):\n",
        "    return data.split(',')[1].strip()\n",
        "  df['wind_speed'] = df['wind'].apply(wind_speed)\n",
        "  df['wind_direction'] = df['wind'].apply(wind_direction)\n",
        "  df['wind_direction'].replace({'none': 'None'}, inplace= True)\n",
        "\n",
        "\n",
        "  # Creating features for weather\n",
        "  def temperature(data):\n",
        "    return int(data.split(',')[0].strip()[:3])\n",
        "  def weather(data):\n",
        "    return data.split(',')[1].strip()\n",
        "  df['temperature'] = df['weather'].apply(temperature)\n",
        "  df['weather'] = df['weather'].apply(weather)\n",
        "\n",
        "  # Duplicate, unnecessary, or potentailly data leakage columns\n",
        "  df.drop(columns= ['outs', 'wind', 'away_final_score', 'home_final_score', 'atbat_id', 'game_id'], inplace= True)\n",
        "\n",
        "  # Drop high cardinality columns\n",
        "  high_card = [col for col in df.select_dtypes(include= 'object').columns if df[col].nunique() >= 100]\n",
        "  df.drop(columns = high_card, inplace= True)\n",
        "  #df.drop(columns= ['umpire_1B', 'umpire_2B', 'umpire_3B', 'umpire_HP'], inplace= True)\n",
        "\n",
        "  # Assigning names to pitcher and batter ids\n",
        "  player_names['name'] = player_names['first_name'] + ' ' + player_names['last_name']\n",
        "  player_names.drop(columns= ['first_name', 'last_name'], inplace= True)\n",
        "  player_names['batter_id'] = player_names['id']\n",
        "  player_names['batter'] = player_names['name']\n",
        "  player_names.drop(columns= ['id', 'name'], inplace=True)\n",
        "  df = pd.merge(df, player_names, how= 'inner', on= 'batter_id')\n",
        "  player_names['pitcher_id'] = player_names['batter_id']\n",
        "  player_names['pitcher'] = player_names['batter']\n",
        "  player_names.drop(columns= ['batter_id', 'batter'], inplace=True)\n",
        "  df = pd.merge(df, player_names, how= 'inner', on= 'pitcher_id')\n",
        "  df.drop(columns= ['batter_id', 'pitcher_id'], inplace= True)\n",
        "\n",
        "  return df"
      ],
      "execution_count": null,
      "outputs": []
    },
    {
      "cell_type": "code",
      "metadata": {
        "id": "6G1S1AtEboq5",
        "outputId": "e38f010b-4914-4053-97aa-88ad995f9cdb",
        "colab": {
          "base_uri": "https://localhost:8080/",
          "height": 326
        }
      },
      "source": [
        "df = wrangle(df)\n",
        "print(df.shape)\n",
        "df.head()"
      ],
      "execution_count": null,
      "outputs": [
        {
          "output_type": "stream",
          "text": [
            "(731567, 19)\n"
          ],
          "name": "stdout"
        },
        {
          "output_type": "execute_result",
          "data": {
            "text/html": [
              "<div>\n",
              "<style scoped>\n",
              "    .dataframe tbody tr th:only-of-type {\n",
              "        vertical-align: middle;\n",
              "    }\n",
              "\n",
              "    .dataframe tbody tr th {\n",
              "        vertical-align: top;\n",
              "    }\n",
              "\n",
              "    .dataframe thead th {\n",
              "        text-align: right;\n",
              "    }\n",
              "</style>\n",
              "<table border=\"1\" class=\"dataframe\">\n",
              "  <thead>\n",
              "    <tr style=\"text-align: right;\">\n",
              "      <th></th>\n",
              "      <th>result</th>\n",
              "      <th>inning</th>\n",
              "      <th>pitcher_team_score</th>\n",
              "      <th>p_throws</th>\n",
              "      <th>stand</th>\n",
              "      <th>top</th>\n",
              "      <th>attendance</th>\n",
              "      <th>away_team</th>\n",
              "      <th>elapsed_time</th>\n",
              "      <th>home_team</th>\n",
              "      <th>venue_name</th>\n",
              "      <th>weather</th>\n",
              "      <th>delay</th>\n",
              "      <th>year</th>\n",
              "      <th>wind_speed</th>\n",
              "      <th>wind_direction</th>\n",
              "      <th>temperature</th>\n",
              "      <th>batter</th>\n",
              "      <th>pitcher</th>\n",
              "    </tr>\n",
              "  </thead>\n",
              "  <tbody>\n",
              "    <tr>\n",
              "      <th>0</th>\n",
              "      <td>Out</td>\n",
              "      <td>1</td>\n",
              "      <td>0</td>\n",
              "      <td>L</td>\n",
              "      <td>L</td>\n",
              "      <td>True</td>\n",
              "      <td>35055</td>\n",
              "      <td>sln</td>\n",
              "      <td>184</td>\n",
              "      <td>chn</td>\n",
              "      <td>Wrigley Field</td>\n",
              "      <td>clear</td>\n",
              "      <td>0</td>\n",
              "      <td>2015</td>\n",
              "      <td>7</td>\n",
              "      <td>In from CF</td>\n",
              "      <td>44</td>\n",
              "      <td>Matt Carpenter</td>\n",
              "      <td>Jon Lester</td>\n",
              "    </tr>\n",
              "    <tr>\n",
              "      <th>1</th>\n",
              "      <td>On Base</td>\n",
              "      <td>2</td>\n",
              "      <td>0</td>\n",
              "      <td>L</td>\n",
              "      <td>L</td>\n",
              "      <td>True</td>\n",
              "      <td>35055</td>\n",
              "      <td>sln</td>\n",
              "      <td>184</td>\n",
              "      <td>chn</td>\n",
              "      <td>Wrigley Field</td>\n",
              "      <td>clear</td>\n",
              "      <td>0</td>\n",
              "      <td>2015</td>\n",
              "      <td>7</td>\n",
              "      <td>In from CF</td>\n",
              "      <td>44</td>\n",
              "      <td>Matt Carpenter</td>\n",
              "      <td>Jon Lester</td>\n",
              "    </tr>\n",
              "    <tr>\n",
              "      <th>2</th>\n",
              "      <td>On Base</td>\n",
              "      <td>5</td>\n",
              "      <td>0</td>\n",
              "      <td>L</td>\n",
              "      <td>L</td>\n",
              "      <td>True</td>\n",
              "      <td>35055</td>\n",
              "      <td>sln</td>\n",
              "      <td>184</td>\n",
              "      <td>chn</td>\n",
              "      <td>Wrigley Field</td>\n",
              "      <td>clear</td>\n",
              "      <td>0</td>\n",
              "      <td>2015</td>\n",
              "      <td>7</td>\n",
              "      <td>In from CF</td>\n",
              "      <td>44</td>\n",
              "      <td>Matt Carpenter</td>\n",
              "      <td>Jon Lester</td>\n",
              "    </tr>\n",
              "    <tr>\n",
              "      <th>3</th>\n",
              "      <td>On Base</td>\n",
              "      <td>1</td>\n",
              "      <td>2</td>\n",
              "      <td>L</td>\n",
              "      <td>L</td>\n",
              "      <td>False</td>\n",
              "      <td>42207</td>\n",
              "      <td>chn</td>\n",
              "      <td>176</td>\n",
              "      <td>sln</td>\n",
              "      <td>Busch Stadium</td>\n",
              "      <td>clear</td>\n",
              "      <td>0</td>\n",
              "      <td>2015</td>\n",
              "      <td>12</td>\n",
              "      <td>Out to LF</td>\n",
              "      <td>83</td>\n",
              "      <td>Matt Carpenter</td>\n",
              "      <td>Jon Lester</td>\n",
              "    </tr>\n",
              "    <tr>\n",
              "      <th>4</th>\n",
              "      <td>Out</td>\n",
              "      <td>3</td>\n",
              "      <td>3</td>\n",
              "      <td>L</td>\n",
              "      <td>L</td>\n",
              "      <td>False</td>\n",
              "      <td>42207</td>\n",
              "      <td>chn</td>\n",
              "      <td>176</td>\n",
              "      <td>sln</td>\n",
              "      <td>Busch Stadium</td>\n",
              "      <td>clear</td>\n",
              "      <td>0</td>\n",
              "      <td>2015</td>\n",
              "      <td>12</td>\n",
              "      <td>Out to LF</td>\n",
              "      <td>83</td>\n",
              "      <td>Matt Carpenter</td>\n",
              "      <td>Jon Lester</td>\n",
              "    </tr>\n",
              "  </tbody>\n",
              "</table>\n",
              "</div>"
            ],
            "text/plain": [
              "    result  inning  pitcher_team_score  ... temperature          batter     pitcher\n",
              "0      Out       1                   0  ...          44  Matt Carpenter  Jon Lester\n",
              "1  On Base       2                   0  ...          44  Matt Carpenter  Jon Lester\n",
              "2  On Base       5                   0  ...          44  Matt Carpenter  Jon Lester\n",
              "3  On Base       1                   2  ...          83  Matt Carpenter  Jon Lester\n",
              "4      Out       3                   3  ...          83  Matt Carpenter  Jon Lester\n",
              "\n",
              "[5 rows x 19 columns]"
            ]
          },
          "metadata": {
            "tags": []
          },
          "execution_count": 143
        }
      ]
    },
    {
      "cell_type": "code",
      "metadata": {
        "id": "6P7PxTqQ0CCk"
      },
      "source": [
        "df['wind_speed'].value_counts()"
      ],
      "execution_count": null,
      "outputs": []
    },
    {
      "cell_type": "code",
      "metadata": {
        "id": "ethTPvstdMkr"
      },
      "source": [
        "df.select_dtypes(exclude= 'object').nunique()"
      ],
      "execution_count": null,
      "outputs": []
    },
    {
      "cell_type": "code",
      "metadata": {
        "id": "ICuwepgTdb9a"
      },
      "source": [
        "df['result'].value_counts()"
      ],
      "execution_count": null,
      "outputs": []
    },
    {
      "cell_type": "code",
      "metadata": {
        "id": "S3c6D8adc4pZ"
      },
      "source": [
        "df.dtypes"
      ],
      "execution_count": null,
      "outputs": []
    },
    {
      "cell_type": "markdown",
      "metadata": {
        "id": "XNyoVmj-Q_4E"
      },
      "source": [
        "## Wrangle pitches dataset"
      ]
    },
    {
      "cell_type": "code",
      "metadata": {
        "id": "BJxde1xv667J"
      },
      "source": [
        "pitches = pd.read_csv('data/pitches.csv')"
      ],
      "execution_count": null,
      "outputs": []
    },
    {
      "cell_type": "code",
      "metadata": {
        "id": "g_o-tfLGP_0r"
      },
      "source": [
        "def wrangle_pitches(df):\n",
        "  df = df.copy()\n",
        "\n",
        "  # nulls = [col for col in df.columns if df[col].isnull().sum() == df.shape[0]]\n",
        "  # print(nulls)\n",
        "  # df.drop(columns= nulls, inplace= True)\n",
        "  #df.drop(columns= ['code', 'o','event_num'], inplace= True) # code is duplicate of type, o is duplicate of outs, do not know what event_num is\n",
        "  #df.drop(columns= ['spin_rate', 'spin_dir', 'type_confidence','zone'], inplace= True) # dropping placeholders. could use for advanced analysis\n",
        "  #df.drop(columns= 'y0', inplace= True) # same value for all pitches: 50\n",
        "\n",
        "  #advanced_stats = df.loc[:,:'pfx_z']\n",
        "  #df.drop(columns= advanced_stats.columns, inplace= True)\n",
        "  \n",
        "  df = df.rename(mapper = {'ab_id': 'atbat_id', \n",
        "                           'g_id': 'game_id', \n",
        "                           'b_count':'balls', \n",
        "                           's_count':'strikes', \n",
        "                           'b_score':'batter_team_score', \n",
        "                           'p_score': 'pitcher_team_score'}, axis= 1)\n",
        "\n",
        "  df['code'].replace({\n",
        "      'B' : 'Ball', # ball\n",
        "      '*B' : 'Ball', # ball in dirt\n",
        "      'S' : 'Strike', # swinging strike\n",
        "      'C' : 'Strike', # called strike\n",
        "      'F' : 'Foul', # foul\n",
        "      'T' : 'Foul', # foul tip\n",
        "      'L' : 'Foul', # foul bunt\n",
        "      'I' : 'Ball', # intentional ball\n",
        "      'W' : 'Strike', # swinging strike blocked\n",
        "      'M' : 'Strike', # missed bunt\n",
        "      'P': 'Ball',\n",
        "      'H': 'On Base', #'in play - no out', # hit by pitch\n",
        "      'E': 'On Base', #'in play -  runs',\n",
        "      'D': 'On Base', #'in play - no out',\n",
        "      'X': 'Out', #'in play - out'\n",
        "  }, inplace = True)\n",
        "\n",
        "  # Selecting the walks when the ball count is at 3 and the pitch is a ball\n",
        "  df.loc[(df['balls'] == 3) & (df['code'] == 'Ball'), 'code'] = 'On Base'\n",
        "\n",
        "  # Selecting strikeouts when the strike count is at 2 and a strike is thrown\n",
        "  df.loc[(df['strikes'] == 2) & (df['code'] == 'Strike'), 'code'] = 'Out'\n",
        "\n",
        "  df = df[(df['code'] == 'Ball') | (df['code'] == 'Strike') | (df['code'] == 'Foul') | (df['code'] == 'On Base') | (df['code'] == 'Out')]\n",
        "\n",
        "  df['pitch_type'].replace({\n",
        "      'CH': 'Changeup',\n",
        "      'CU': 'Curveball',\n",
        "      'EP': 'Eephus',\n",
        "      'FC': 'Cutter',\n",
        "      'FF': 'Four seam fastball',\n",
        "      'FO': 'Pitchout',\n",
        "      'FS': 'Splitter',\n",
        "      'FT': 'Two seam fastball',\n",
        "      'IN': 'Intentional ball',\n",
        "      'KC': 'Knuckle curve',\n",
        "      'KN': 'Knuckleball',\n",
        "      'PO': 'Pitchout',\n",
        "      'SC': 'Screwball',\n",
        "      'SI': 'Sinker',\n",
        "      'SL': 'Slider',\n",
        "      'UN': 'Unknown'\n",
        "  }, inplace = True)\n",
        "\n",
        "  # df['top'] = df['top'].astype(int) # changing 'top' of inning from boolean to binary\n",
        "\n",
        "  df['atbbat_id'] = df['atbat_id'].apply(int) # making atbats readable\n",
        "\n",
        "  # #df.dropna(inplace= True) \n",
        "\n",
        "  # Dropping outliers that have 4 balls in the count\n",
        "  # four_balls = df[df['b_count'] == 4]\n",
        "  # df.drop(four_balls.index, inplace= True)\n",
        "\n",
        "  # Removing duplicate or data leakage\n",
        "  df.drop(columns= ['type', 'event_num'], inplace= True)\n",
        "\n",
        "  return df"
      ],
      "execution_count": null,
      "outputs": []
    },
    {
      "cell_type": "code",
      "metadata": {
        "id": "kdkuBMrNQ5Ys",
        "outputId": "4fe601d6-c989-4860-c22e-49e0acc95fa5",
        "colab": {
          "base_uri": "https://localhost:8080/",
          "height": 309
        }
      },
      "source": [
        "pitches = wrangle_pitches(pitches)\n",
        "print(pitches.shape)\n",
        "pitches.head()"
      ],
      "execution_count": null,
      "outputs": [
        {
          "output_type": "stream",
          "text": [
            "(2854774, 40)\n"
          ],
          "name": "stdout"
        },
        {
          "output_type": "execute_result",
          "data": {
            "text/html": [
              "<div>\n",
              "<style scoped>\n",
              "    .dataframe tbody tr th:only-of-type {\n",
              "        vertical-align: middle;\n",
              "    }\n",
              "\n",
              "    .dataframe tbody tr th {\n",
              "        vertical-align: top;\n",
              "    }\n",
              "\n",
              "    .dataframe thead th {\n",
              "        text-align: right;\n",
              "    }\n",
              "</style>\n",
              "<table border=\"1\" class=\"dataframe\">\n",
              "  <thead>\n",
              "    <tr style=\"text-align: right;\">\n",
              "      <th></th>\n",
              "      <th>px</th>\n",
              "      <th>pz</th>\n",
              "      <th>start_speed</th>\n",
              "      <th>end_speed</th>\n",
              "      <th>spin_rate</th>\n",
              "      <th>spin_dir</th>\n",
              "      <th>break_angle</th>\n",
              "      <th>break_length</th>\n",
              "      <th>break_y</th>\n",
              "      <th>ax</th>\n",
              "      <th>ay</th>\n",
              "      <th>az</th>\n",
              "      <th>sz_bot</th>\n",
              "      <th>sz_top</th>\n",
              "      <th>type_confidence</th>\n",
              "      <th>vx0</th>\n",
              "      <th>vy0</th>\n",
              "      <th>vz0</th>\n",
              "      <th>x</th>\n",
              "      <th>x0</th>\n",
              "      <th>y</th>\n",
              "      <th>y0</th>\n",
              "      <th>z0</th>\n",
              "      <th>pfx_x</th>\n",
              "      <th>pfx_z</th>\n",
              "      <th>nasty</th>\n",
              "      <th>zone</th>\n",
              "      <th>code</th>\n",
              "      <th>pitch_type</th>\n",
              "      <th>event_num</th>\n",
              "      <th>batter_team_score</th>\n",
              "      <th>atbat_id</th>\n",
              "      <th>balls</th>\n",
              "      <th>strikes</th>\n",
              "      <th>outs</th>\n",
              "      <th>pitch_num</th>\n",
              "      <th>on_1b</th>\n",
              "      <th>on_2b</th>\n",
              "      <th>on_3b</th>\n",
              "      <th>atbbat_id</th>\n",
              "    </tr>\n",
              "  </thead>\n",
              "  <tbody>\n",
              "    <tr>\n",
              "      <th>0</th>\n",
              "      <td>0.416</td>\n",
              "      <td>2.963</td>\n",
              "      <td>92.9</td>\n",
              "      <td>84.1</td>\n",
              "      <td>2305.052</td>\n",
              "      <td>159.235</td>\n",
              "      <td>-25.0</td>\n",
              "      <td>3.2</td>\n",
              "      <td>23.7</td>\n",
              "      <td>7.665</td>\n",
              "      <td>34.685</td>\n",
              "      <td>-11.960</td>\n",
              "      <td>1.72</td>\n",
              "      <td>3.56</td>\n",
              "      <td>2.0</td>\n",
              "      <td>-6.409</td>\n",
              "      <td>-136.065</td>\n",
              "      <td>-3.995</td>\n",
              "      <td>101.140000</td>\n",
              "      <td>2.280</td>\n",
              "      <td>158.780000</td>\n",
              "      <td>50.0</td>\n",
              "      <td>5.302</td>\n",
              "      <td>4.16</td>\n",
              "      <td>10.93</td>\n",
              "      <td>55.0</td>\n",
              "      <td>3.0</td>\n",
              "      <td>Strike</td>\n",
              "      <td>Four seam fastball</td>\n",
              "      <td>3</td>\n",
              "      <td>0.0</td>\n",
              "      <td>2.015000e+09</td>\n",
              "      <td>0.0</td>\n",
              "      <td>0.0</td>\n",
              "      <td>0.0</td>\n",
              "      <td>1.0</td>\n",
              "      <td>0.0</td>\n",
              "      <td>0.0</td>\n",
              "      <td>0.0</td>\n",
              "      <td>2015000001</td>\n",
              "    </tr>\n",
              "    <tr>\n",
              "      <th>1</th>\n",
              "      <td>-0.191</td>\n",
              "      <td>2.347</td>\n",
              "      <td>92.8</td>\n",
              "      <td>84.1</td>\n",
              "      <td>2689.935</td>\n",
              "      <td>151.402</td>\n",
              "      <td>-40.7</td>\n",
              "      <td>3.4</td>\n",
              "      <td>23.7</td>\n",
              "      <td>12.043</td>\n",
              "      <td>34.225</td>\n",
              "      <td>-10.085</td>\n",
              "      <td>1.72</td>\n",
              "      <td>3.56</td>\n",
              "      <td>2.0</td>\n",
              "      <td>-8.411</td>\n",
              "      <td>-135.690</td>\n",
              "      <td>-5.980</td>\n",
              "      <td>124.280000</td>\n",
              "      <td>2.119</td>\n",
              "      <td>175.410000</td>\n",
              "      <td>50.0</td>\n",
              "      <td>5.307</td>\n",
              "      <td>6.57</td>\n",
              "      <td>12.00</td>\n",
              "      <td>31.0</td>\n",
              "      <td>5.0</td>\n",
              "      <td>Strike</td>\n",
              "      <td>Four seam fastball</td>\n",
              "      <td>4</td>\n",
              "      <td>0.0</td>\n",
              "      <td>2.015000e+09</td>\n",
              "      <td>0.0</td>\n",
              "      <td>1.0</td>\n",
              "      <td>0.0</td>\n",
              "      <td>2.0</td>\n",
              "      <td>0.0</td>\n",
              "      <td>0.0</td>\n",
              "      <td>0.0</td>\n",
              "      <td>2015000001</td>\n",
              "    </tr>\n",
              "    <tr>\n",
              "      <th>2</th>\n",
              "      <td>-0.518</td>\n",
              "      <td>3.284</td>\n",
              "      <td>94.1</td>\n",
              "      <td>85.2</td>\n",
              "      <td>2647.972</td>\n",
              "      <td>145.125</td>\n",
              "      <td>-43.7</td>\n",
              "      <td>3.7</td>\n",
              "      <td>23.7</td>\n",
              "      <td>14.368</td>\n",
              "      <td>35.276</td>\n",
              "      <td>-11.560</td>\n",
              "      <td>1.72</td>\n",
              "      <td>3.56</td>\n",
              "      <td>2.0</td>\n",
              "      <td>-9.802</td>\n",
              "      <td>-137.668</td>\n",
              "      <td>-3.337</td>\n",
              "      <td>136.740000</td>\n",
              "      <td>2.127</td>\n",
              "      <td>150.110000</td>\n",
              "      <td>50.0</td>\n",
              "      <td>5.313</td>\n",
              "      <td>7.61</td>\n",
              "      <td>10.88</td>\n",
              "      <td>49.0</td>\n",
              "      <td>1.0</td>\n",
              "      <td>Foul</td>\n",
              "      <td>Four seam fastball</td>\n",
              "      <td>5</td>\n",
              "      <td>0.0</td>\n",
              "      <td>2.015000e+09</td>\n",
              "      <td>0.0</td>\n",
              "      <td>2.0</td>\n",
              "      <td>0.0</td>\n",
              "      <td>3.0</td>\n",
              "      <td>0.0</td>\n",
              "      <td>0.0</td>\n",
              "      <td>0.0</td>\n",
              "      <td>2015000001</td>\n",
              "    </tr>\n",
              "    <tr>\n",
              "      <th>3</th>\n",
              "      <td>-0.641</td>\n",
              "      <td>1.221</td>\n",
              "      <td>91.0</td>\n",
              "      <td>84.0</td>\n",
              "      <td>1289.590</td>\n",
              "      <td>169.751</td>\n",
              "      <td>-1.3</td>\n",
              "      <td>5.0</td>\n",
              "      <td>23.8</td>\n",
              "      <td>2.104</td>\n",
              "      <td>28.354</td>\n",
              "      <td>-20.540</td>\n",
              "      <td>1.74</td>\n",
              "      <td>3.35</td>\n",
              "      <td>2.0</td>\n",
              "      <td>-8.071</td>\n",
              "      <td>-133.005</td>\n",
              "      <td>-6.567</td>\n",
              "      <td>109.685636</td>\n",
              "      <td>2.279</td>\n",
              "      <td>187.463482</td>\n",
              "      <td>50.0</td>\n",
              "      <td>5.210</td>\n",
              "      <td>1.17</td>\n",
              "      <td>6.45</td>\n",
              "      <td>41.0</td>\n",
              "      <td>13.0</td>\n",
              "      <td>Ball</td>\n",
              "      <td>Four seam fastball</td>\n",
              "      <td>6</td>\n",
              "      <td>0.0</td>\n",
              "      <td>2.015000e+09</td>\n",
              "      <td>0.0</td>\n",
              "      <td>2.0</td>\n",
              "      <td>0.0</td>\n",
              "      <td>4.0</td>\n",
              "      <td>0.0</td>\n",
              "      <td>0.0</td>\n",
              "      <td>0.0</td>\n",
              "      <td>2015000001</td>\n",
              "    </tr>\n",
              "    <tr>\n",
              "      <th>4</th>\n",
              "      <td>-1.821</td>\n",
              "      <td>2.083</td>\n",
              "      <td>75.4</td>\n",
              "      <td>69.6</td>\n",
              "      <td>1374.569</td>\n",
              "      <td>280.671</td>\n",
              "      <td>18.4</td>\n",
              "      <td>12.0</td>\n",
              "      <td>23.8</td>\n",
              "      <td>-10.280</td>\n",
              "      <td>21.774</td>\n",
              "      <td>-34.111</td>\n",
              "      <td>1.72</td>\n",
              "      <td>3.56</td>\n",
              "      <td>2.0</td>\n",
              "      <td>-6.309</td>\n",
              "      <td>-110.409</td>\n",
              "      <td>0.325</td>\n",
              "      <td>146.527525</td>\n",
              "      <td>2.179</td>\n",
              "      <td>177.242829</td>\n",
              "      <td>50.0</td>\n",
              "      <td>5.557</td>\n",
              "      <td>-8.43</td>\n",
              "      <td>-1.65</td>\n",
              "      <td>18.0</td>\n",
              "      <td>13.0</td>\n",
              "      <td>Ball</td>\n",
              "      <td>Curveball</td>\n",
              "      <td>7</td>\n",
              "      <td>0.0</td>\n",
              "      <td>2.015000e+09</td>\n",
              "      <td>1.0</td>\n",
              "      <td>2.0</td>\n",
              "      <td>0.0</td>\n",
              "      <td>5.0</td>\n",
              "      <td>0.0</td>\n",
              "      <td>0.0</td>\n",
              "      <td>0.0</td>\n",
              "      <td>2015000001</td>\n",
              "    </tr>\n",
              "  </tbody>\n",
              "</table>\n",
              "</div>"
            ],
            "text/plain": [
              "      px     pz  start_speed  end_speed  ...  on_1b  on_2b  on_3b   atbbat_id\n",
              "0  0.416  2.963         92.9       84.1  ...    0.0    0.0    0.0  2015000001\n",
              "1 -0.191  2.347         92.8       84.1  ...    0.0    0.0    0.0  2015000001\n",
              "2 -0.518  3.284         94.1       85.2  ...    0.0    0.0    0.0  2015000001\n",
              "3 -0.641  1.221         91.0       84.0  ...    0.0    0.0    0.0  2015000001\n",
              "4 -1.821  2.083         75.4       69.6  ...    0.0    0.0    0.0  2015000001\n",
              "\n",
              "[5 rows x 40 columns]"
            ]
          },
          "metadata": {
            "tags": []
          },
          "execution_count": 13
        }
      ]
    },
    {
      "cell_type": "code",
      "metadata": {
        "id": "LytVFr-aMduy",
        "outputId": "42c5c417-1137-44f8-f363-c2732196446e",
        "colab": {
          "base_uri": "https://localhost:8080/",
          "height": 119
        }
      },
      "source": [
        "pitches['code'].value_counts()"
      ],
      "execution_count": null,
      "outputs": [
        {
          "output_type": "execute_result",
          "data": {
            "text/plain": [
              "Ball       970852\n",
              "Strike     629856\n",
              "Foul       528930\n",
              "Out        478233\n",
              "On Base    246903\n",
              "Name: code, dtype: int64"
            ]
          },
          "metadata": {
            "tags": []
          },
          "execution_count": 9
        }
      ]
    },
    {
      "cell_type": "code",
      "metadata": {
        "id": "evQLBOl19XDc"
      },
      "source": [
        "pitchers = df.groupby(['pitcher_id'])#['pitcher_id']\n",
        "pitchers.head()"
      ],
      "execution_count": null,
      "outputs": []
    },
    {
      "cell_type": "markdown",
      "metadata": {
        "id": "LrqQjIeCQ4eD"
      },
      "source": [
        "## Wrangle at_bats dataset"
      ]
    },
    {
      "cell_type": "code",
      "metadata": {
        "id": "gR5dNeZOW-b9"
      },
      "source": [
        "at_bats = pd.read_csv('data/atbats.csv')"
      ],
      "execution_count": null,
      "outputs": []
    },
    {
      "cell_type": "code",
      "metadata": {
        "id": "TRqoOqMQR-ED"
      },
      "source": [
        "def wrangle_at_bats(df):\n",
        "  df = df.copy()\n",
        "\n",
        "  # df['event'].replace({\n",
        "  #     'Strikeout': 'Out',\n",
        "  #     'Groundout': 'Out',\n",
        "  #     'Walk' : 'On Base',\n",
        "  #     'Single' : 'On Base',\n",
        "  #     'Flyout' : 'Out',\n",
        "  #     'Lineout': 'Out',\n",
        "  #     'Pop Out' : 'Out',\n",
        "  #     'Double' : 'On Base',\n",
        "  #     'Home Run' : 'On Base',\n",
        "  #     'Forceout' : 'Out',\n",
        "  #     'Grounded Into DP' : 'Out',\n",
        "  #     'Field Error' : 'On Base', # counted as on base since the batter did get on base\n",
        "  #     'Hit By Pitch': 'On Base',\n",
        "  #     'Triple' : 'On Base',\n",
        "  #     'Double Play' : 'Out',\n",
        "  #     'Intent Walk' : 'On Base',\n",
        "  #     'Strikeout Double Play' : 'Out',\n",
        "  #     'Fielders Choice' : 'Out',\n",
        "  #     'Fielders Choice Out' : 'Out',\n",
        "  #     'Bunt Pop Out' : 'Out',\n",
        "  #     'Bunt Groundout' : 'Out',\n",
        "  #     'Bunt Lineout' : 'Out',\n",
        "  #     'Runner Out' : 'Out',\n",
        "  #     'Triple Play' : 'Out',\n",
        "  #     'Runner Double Play' : 'Out',\n",
        "  #     'Strikeout - DP': 'Out',\n",
        "  #     'Batter Interference': 'Out',\n",
        "  #     'Catcher Interference' : 'On Base'\n",
        "\n",
        "  #     # ,'Sac Fly': 'Out',\n",
        "  #     # 'Sac Bunt': 'Out',\n",
        "  #     # 'Sac Fly DP': 'Out',\n",
        "  #     # 'Sacrifice Bunt DP': 'Out'\n",
        "  # }, inplace= True)\n",
        "\n",
        "  # df = df[(df['event'] == 'On Base') | (df['event'] == 'Out')] # filtering out sacrifice flys and bunts\n",
        "\n",
        "  # df['event'].replace({\n",
        "  #     'Out': 0,\n",
        "  #     'On Base': 1\n",
        "  # }, inplace = True)\n",
        "\n",
        "  # df['top'] = df['top'].astype(int)\n",
        "  \n",
        "  df = df.rename(mapper = {'ab_id': 'atbat_id',\n",
        "                           'event': 'result',\n",
        "                           'o': 'outs',\n",
        "                           'g_id': 'game_id', \n",
        "                           'p_score': 'pitcher_team_score'}, axis= 1)\n",
        "  \n",
        "  df['atbat_id'] = df['atbat_id'].apply(int) # making atbats readable\n",
        "\n",
        "  # Removing data leakage\n",
        "  df.drop(columns= ['outs', 'result'], inplace= True)\n",
        "  return df\n",
        "\n"
      ],
      "execution_count": null,
      "outputs": []
    },
    {
      "cell_type": "code",
      "metadata": {
        "id": "7BSoUKOwTLcP",
        "outputId": "71b245e7-47d2-4d5e-b81a-8b8b5c2c91c9",
        "colab": {
          "base_uri": "https://localhost:8080/",
          "height": 221
        }
      },
      "source": [
        "at_bats = wrangle_at_bats(at_bats)\n",
        "print(at_bats.shape)\n",
        "at_bats.head()"
      ],
      "execution_count": null,
      "outputs": [
        {
          "output_type": "stream",
          "text": [
            "(740389, 10)\n"
          ],
          "name": "stdout"
        },
        {
          "output_type": "execute_result",
          "data": {
            "text/html": [
              "<div>\n",
              "<style scoped>\n",
              "    .dataframe tbody tr th:only-of-type {\n",
              "        vertical-align: middle;\n",
              "    }\n",
              "\n",
              "    .dataframe tbody tr th {\n",
              "        vertical-align: top;\n",
              "    }\n",
              "\n",
              "    .dataframe thead th {\n",
              "        text-align: right;\n",
              "    }\n",
              "</style>\n",
              "<table border=\"1\" class=\"dataframe\">\n",
              "  <thead>\n",
              "    <tr style=\"text-align: right;\">\n",
              "      <th></th>\n",
              "      <th>atbat_id</th>\n",
              "      <th>batter_id</th>\n",
              "      <th>game_id</th>\n",
              "      <th>inning</th>\n",
              "      <th>pitcher_team_score</th>\n",
              "      <th>p_throws</th>\n",
              "      <th>pitcher_id</th>\n",
              "      <th>stand</th>\n",
              "      <th>top</th>\n",
              "      <th>atbbat_id</th>\n",
              "    </tr>\n",
              "  </thead>\n",
              "  <tbody>\n",
              "    <tr>\n",
              "      <th>0</th>\n",
              "      <td>2015000001</td>\n",
              "      <td>572761</td>\n",
              "      <td>201500001</td>\n",
              "      <td>1</td>\n",
              "      <td>0</td>\n",
              "      <td>L</td>\n",
              "      <td>452657</td>\n",
              "      <td>L</td>\n",
              "      <td>True</td>\n",
              "      <td>2015000001</td>\n",
              "    </tr>\n",
              "    <tr>\n",
              "      <th>1</th>\n",
              "      <td>2015000002</td>\n",
              "      <td>518792</td>\n",
              "      <td>201500001</td>\n",
              "      <td>1</td>\n",
              "      <td>0</td>\n",
              "      <td>L</td>\n",
              "      <td>452657</td>\n",
              "      <td>L</td>\n",
              "      <td>True</td>\n",
              "      <td>2015000002</td>\n",
              "    </tr>\n",
              "    <tr>\n",
              "      <th>2</th>\n",
              "      <td>2015000003</td>\n",
              "      <td>407812</td>\n",
              "      <td>201500001</td>\n",
              "      <td>1</td>\n",
              "      <td>0</td>\n",
              "      <td>L</td>\n",
              "      <td>452657</td>\n",
              "      <td>R</td>\n",
              "      <td>True</td>\n",
              "      <td>2015000003</td>\n",
              "    </tr>\n",
              "    <tr>\n",
              "      <th>3</th>\n",
              "      <td>2015000004</td>\n",
              "      <td>425509</td>\n",
              "      <td>201500001</td>\n",
              "      <td>1</td>\n",
              "      <td>0</td>\n",
              "      <td>L</td>\n",
              "      <td>452657</td>\n",
              "      <td>R</td>\n",
              "      <td>True</td>\n",
              "      <td>2015000004</td>\n",
              "    </tr>\n",
              "    <tr>\n",
              "      <th>4</th>\n",
              "      <td>2015000005</td>\n",
              "      <td>571431</td>\n",
              "      <td>201500001</td>\n",
              "      <td>1</td>\n",
              "      <td>0</td>\n",
              "      <td>L</td>\n",
              "      <td>452657</td>\n",
              "      <td>L</td>\n",
              "      <td>True</td>\n",
              "      <td>2015000005</td>\n",
              "    </tr>\n",
              "  </tbody>\n",
              "</table>\n",
              "</div>"
            ],
            "text/plain": [
              "     atbat_id  batter_id    game_id  inning  ...  pitcher_id stand   top   atbbat_id\n",
              "0  2015000001     572761  201500001       1  ...      452657     L  True  2015000001\n",
              "1  2015000002     518792  201500001       1  ...      452657     L  True  2015000002\n",
              "2  2015000003     407812  201500001       1  ...      452657     R  True  2015000003\n",
              "3  2015000004     425509  201500001       1  ...      452657     R  True  2015000004\n",
              "4  2015000005     571431  201500001       1  ...      452657     L  True  2015000005\n",
              "\n",
              "[5 rows x 10 columns]"
            ]
          },
          "metadata": {
            "tags": []
          },
          "execution_count": 6
        }
      ]
    },
    {
      "cell_type": "code",
      "metadata": {
        "id": "UF8VjHQSUPaS"
      },
      "source": [
        "at_bats['result'].value_counts(normalize = True)*100"
      ],
      "execution_count": null,
      "outputs": []
    },
    {
      "cell_type": "code",
      "metadata": {
        "id": "CFx1yjdFD38Y"
      },
      "source": [
        "at_bats['outs'].value_counts()"
      ],
      "execution_count": null,
      "outputs": []
    },
    {
      "cell_type": "code",
      "metadata": {
        "id": "mfw-VqFIEEBN"
      },
      "source": [
        "at_bats.groupby(by= 'outs')['result'].sum() / at_bats.groupby(by= 'outs')['result'].count()"
      ],
      "execution_count": null,
      "outputs": []
    },
    {
      "cell_type": "code",
      "metadata": {
        "id": "eVIBPpqLXnVp"
      },
      "source": [
        "at_bats.nunique()"
      ],
      "execution_count": null,
      "outputs": []
    },
    {
      "cell_type": "markdown",
      "metadata": {
        "id": "4X05gWNjQ_lU"
      },
      "source": [
        "## Wrangle games dataset"
      ]
    },
    {
      "cell_type": "code",
      "metadata": {
        "id": "M36I7VWlXdtj"
      },
      "source": [
        "games = pd.read_csv('data/games.csv')"
      ],
      "execution_count": null,
      "outputs": []
    },
    {
      "cell_type": "code",
      "metadata": {
        "id": "yQt03de-TqLY"
      },
      "source": [
        "def wrangle_games(df):\n",
        "  df = df.copy()\n",
        "\n",
        "  df = df.rename(mapper = {'g_id': 'game_id'}, axis= 1)\n",
        "\n",
        "  # Create feature for year\n",
        "  def get_year(data):\n",
        "    return str(data)[:4]\n",
        "  df['year'] = df['game_id'].apply(get_year)\n",
        "\n",
        "  df = df.set_index('game_id')\n",
        "  \n",
        "  # Creating features and reducing cardinality of wind\n",
        "  def wind_speed(data):\n",
        "    return int(data.split(',')[0].strip()[:-4])\n",
        "  def wind_direction(data):\n",
        "    return data.split(',')[1].strip()\n",
        "  df['wind_speed'] = df['wind'].apply(wind_speed)\n",
        "  df['wind_direction'] = df['wind'].apply(wind_direction)\n",
        "  df['wind_direction'].replace({'none': 'None'}, inplace= True)\n",
        "\n",
        "\n",
        "  # Creating features for weather\n",
        "  def temperature(data):\n",
        "    return int(data.split(',')[0].strip()[:3])\n",
        "  def weather(data):\n",
        "    return data.split(',')[1].strip()\n",
        "  df['temperature'] = df['weather'].apply(temperature)\n",
        "  df['weather'] = df['weather'].apply(weather)\n",
        "\n",
        "  # Duplicate or potentailly data leakage columns\n",
        "  df.drop(columns= ['wind', 'away_final_score', 'home_final_score'], inplace= True)\n",
        "\n",
        "  # Drop high cardinality columns\n",
        "  high_card = [col for col in df.columns if df[col].nunique() >= 100]\n",
        "  df.drop(columns = high_card, inplace= True)\n",
        "  #df.drop(columns= ['umpire_1B', 'umpire_2B', 'umpire_3B', 'umpire_HP'], inplace= True)\n",
        "  return df"
      ],
      "execution_count": null,
      "outputs": []
    },
    {
      "cell_type": "code",
      "metadata": {
        "id": "mvkOH886TzWm",
        "outputId": "061d0d94-d1dd-40a2-ff14-350e515f7a53",
        "colab": {
          "base_uri": "https://localhost:8080/",
          "height": 252
        }
      },
      "source": [
        "games = wrangle_games(games)\n",
        "print(games.shape)\n",
        "games.head()"
      ],
      "execution_count": null,
      "outputs": [
        {
          "output_type": "stream",
          "text": [
            "(9718, 8)\n"
          ],
          "name": "stdout"
        },
        {
          "output_type": "execute_result",
          "data": {
            "text/html": [
              "<div>\n",
              "<style scoped>\n",
              "    .dataframe tbody tr th:only-of-type {\n",
              "        vertical-align: middle;\n",
              "    }\n",
              "\n",
              "    .dataframe tbody tr th {\n",
              "        vertical-align: top;\n",
              "    }\n",
              "\n",
              "    .dataframe thead th {\n",
              "        text-align: right;\n",
              "    }\n",
              "</style>\n",
              "<table border=\"1\" class=\"dataframe\">\n",
              "  <thead>\n",
              "    <tr style=\"text-align: right;\">\n",
              "      <th></th>\n",
              "      <th>away_team</th>\n",
              "      <th>home_team</th>\n",
              "      <th>venue_name</th>\n",
              "      <th>weather</th>\n",
              "      <th>year</th>\n",
              "      <th>wind_speed</th>\n",
              "      <th>wind_direction</th>\n",
              "      <th>temperature</th>\n",
              "    </tr>\n",
              "    <tr>\n",
              "      <th>game_id</th>\n",
              "      <th></th>\n",
              "      <th></th>\n",
              "      <th></th>\n",
              "      <th></th>\n",
              "      <th></th>\n",
              "      <th></th>\n",
              "      <th></th>\n",
              "      <th></th>\n",
              "    </tr>\n",
              "  </thead>\n",
              "  <tbody>\n",
              "    <tr>\n",
              "      <th>201500001</th>\n",
              "      <td>sln</td>\n",
              "      <td>chn</td>\n",
              "      <td>Wrigley Field</td>\n",
              "      <td>clear</td>\n",
              "      <td>2015</td>\n",
              "      <td>7</td>\n",
              "      <td>In from CF</td>\n",
              "      <td>44</td>\n",
              "    </tr>\n",
              "    <tr>\n",
              "      <th>201500002</th>\n",
              "      <td>ana</td>\n",
              "      <td>sea</td>\n",
              "      <td>Safeco Field</td>\n",
              "      <td>cloudy</td>\n",
              "      <td>2015</td>\n",
              "      <td>1</td>\n",
              "      <td>Varies</td>\n",
              "      <td>54</td>\n",
              "    </tr>\n",
              "    <tr>\n",
              "      <th>201500003</th>\n",
              "      <td>atl</td>\n",
              "      <td>mia</td>\n",
              "      <td>Marlins Park</td>\n",
              "      <td>partly cloudy</td>\n",
              "      <td>2015</td>\n",
              "      <td>16</td>\n",
              "      <td>In from CF</td>\n",
              "      <td>80</td>\n",
              "    </tr>\n",
              "    <tr>\n",
              "      <th>201500004</th>\n",
              "      <td>bal</td>\n",
              "      <td>tba</td>\n",
              "      <td>Tropicana Field</td>\n",
              "      <td>dome</td>\n",
              "      <td>2015</td>\n",
              "      <td>0</td>\n",
              "      <td>None</td>\n",
              "      <td>72</td>\n",
              "    </tr>\n",
              "    <tr>\n",
              "      <th>201500005</th>\n",
              "      <td>bos</td>\n",
              "      <td>phi</td>\n",
              "      <td>Citizens Bank Park</td>\n",
              "      <td>partly cloudy</td>\n",
              "      <td>2015</td>\n",
              "      <td>11</td>\n",
              "      <td>Out to RF</td>\n",
              "      <td>71</td>\n",
              "    </tr>\n",
              "  </tbody>\n",
              "</table>\n",
              "</div>"
            ],
            "text/plain": [
              "          away_team home_team  ... wind_direction temperature\n",
              "game_id                        ...                           \n",
              "201500001       sln       chn  ...     In from CF          44\n",
              "201500002       ana       sea  ...         Varies          54\n",
              "201500003       atl       mia  ...     In from CF          80\n",
              "201500004       bal       tba  ...           None          72\n",
              "201500005       bos       phi  ...      Out to RF          71\n",
              "\n",
              "[5 rows x 8 columns]"
            ]
          },
          "metadata": {
            "tags": []
          },
          "execution_count": 9
        }
      ]
    },
    {
      "cell_type": "code",
      "metadata": {
        "id": "nv7TcPX199Dt",
        "outputId": "ea94b1af-e49e-4f2c-9bfd-27394401d14a",
        "colab": {
          "base_uri": "https://localhost:8080/",
          "height": 170
        }
      },
      "source": [
        "games.nunique()"
      ],
      "execution_count": null,
      "outputs": [
        {
          "output_type": "execute_result",
          "data": {
            "text/plain": [
              "away_team         30\n",
              "home_team         30\n",
              "venue_name        39\n",
              "weather           10\n",
              "year               4\n",
              "wind_speed        27\n",
              "wind_direction    11\n",
              "temperature       78\n",
              "dtype: int64"
            ]
          },
          "metadata": {
            "tags": []
          },
          "execution_count": 10
        }
      ]
    },
    {
      "cell_type": "code",
      "metadata": {
        "id": "lt4jhLqc0bP7"
      },
      "source": [
        "%matplotlib inline\n",
        "games['attendance'].hist();"
      ],
      "execution_count": null,
      "outputs": []
    },
    {
      "cell_type": "code",
      "metadata": {
        "id": "SrSAU6uIz6qx",
        "outputId": "79e3d871-546f-4df6-80a7-823424903d36",
        "colab": {
          "base_uri": "https://localhost:8080/",
          "height": 289
        }
      },
      "source": [
        "games.info()"
      ],
      "execution_count": null,
      "outputs": [
        {
          "output_type": "stream",
          "text": [
            "<class 'pandas.core.frame.DataFrame'>\n",
            "Int64Index: 9718 entries, 201500001 to 201802431\n",
            "Data columns (total 9 columns):\n",
            " #   Column            Non-Null Count  Dtype \n",
            "---  ------            --------------  ----- \n",
            " 0   away_final_score  9718 non-null   int64 \n",
            " 1   away_team         9718 non-null   object\n",
            " 2   home_final_score  9718 non-null   int64 \n",
            " 3   home_team         9718 non-null   object\n",
            " 4   venue_name        9718 non-null   object\n",
            " 5   weather           9718 non-null   object\n",
            " 6   wind_speed        9718 non-null   int64 \n",
            " 7   wind_direction    9718 non-null   object\n",
            " 8   temperature       9718 non-null   int64 \n",
            "dtypes: int64(4), object(5)\n",
            "memory usage: 759.2+ KB\n"
          ],
          "name": "stdout"
        }
      ]
    },
    {
      "cell_type": "code",
      "metadata": {
        "id": "9cUXGrYV-HZc"
      },
      "source": [
        "games['attendance'].hist()\n",
        "plt.show();"
      ],
      "execution_count": null,
      "outputs": []
    },
    {
      "cell_type": "markdown",
      "metadata": {
        "id": "2dn6-z7RHncX"
      },
      "source": [
        "## Merge the datasets"
      ]
    },
    {
      "cell_type": "code",
      "metadata": {
        "id": "6ISIIezeHsUC"
      },
      "source": [
        "df = pd.merge(pitches, at_bats, how= 'inner', on= 'atbat_id')\n",
        "df = pd.merge(df, games, how= 'inner', on= 'game_id')"
      ],
      "execution_count": null,
      "outputs": []
    },
    {
      "cell_type": "code",
      "metadata": {
        "id": "s5v-JYMbIm-u",
        "outputId": "853578e2-0d91-482a-d441-d09b47986a4e",
        "colab": {
          "base_uri": "https://localhost:8080/",
          "height": 326
        }
      },
      "source": [
        "print(df.shape)\n",
        "df.head()"
      ],
      "execution_count": null,
      "outputs": [
        {
          "output_type": "stream",
          "text": [
            "(2854774, 57)\n"
          ],
          "name": "stdout"
        },
        {
          "output_type": "execute_result",
          "data": {
            "text/html": [
              "<div>\n",
              "<style scoped>\n",
              "    .dataframe tbody tr th:only-of-type {\n",
              "        vertical-align: middle;\n",
              "    }\n",
              "\n",
              "    .dataframe tbody tr th {\n",
              "        vertical-align: top;\n",
              "    }\n",
              "\n",
              "    .dataframe thead th {\n",
              "        text-align: right;\n",
              "    }\n",
              "</style>\n",
              "<table border=\"1\" class=\"dataframe\">\n",
              "  <thead>\n",
              "    <tr style=\"text-align: right;\">\n",
              "      <th></th>\n",
              "      <th>px</th>\n",
              "      <th>pz</th>\n",
              "      <th>start_speed</th>\n",
              "      <th>end_speed</th>\n",
              "      <th>spin_rate</th>\n",
              "      <th>spin_dir</th>\n",
              "      <th>break_angle</th>\n",
              "      <th>break_length</th>\n",
              "      <th>break_y</th>\n",
              "      <th>ax</th>\n",
              "      <th>ay</th>\n",
              "      <th>az</th>\n",
              "      <th>sz_bot</th>\n",
              "      <th>sz_top</th>\n",
              "      <th>type_confidence</th>\n",
              "      <th>vx0</th>\n",
              "      <th>vy0</th>\n",
              "      <th>vz0</th>\n",
              "      <th>x</th>\n",
              "      <th>x0</th>\n",
              "      <th>y</th>\n",
              "      <th>y0</th>\n",
              "      <th>z0</th>\n",
              "      <th>pfx_x</th>\n",
              "      <th>pfx_z</th>\n",
              "      <th>nasty</th>\n",
              "      <th>zone</th>\n",
              "      <th>code</th>\n",
              "      <th>pitch_type</th>\n",
              "      <th>event_num</th>\n",
              "      <th>batter_team_score</th>\n",
              "      <th>atbat_id</th>\n",
              "      <th>balls</th>\n",
              "      <th>strikes</th>\n",
              "      <th>outs</th>\n",
              "      <th>pitch_num</th>\n",
              "      <th>on_1b</th>\n",
              "      <th>on_2b</th>\n",
              "      <th>on_3b</th>\n",
              "      <th>atbbat_id_x</th>\n",
              "      <th>batter_id</th>\n",
              "      <th>game_id</th>\n",
              "      <th>inning</th>\n",
              "      <th>pitcher_team_score</th>\n",
              "      <th>p_throws</th>\n",
              "      <th>pitcher_id</th>\n",
              "      <th>stand</th>\n",
              "      <th>top</th>\n",
              "      <th>atbbat_id_y</th>\n",
              "      <th>away_team</th>\n",
              "      <th>home_team</th>\n",
              "      <th>venue_name</th>\n",
              "      <th>weather</th>\n",
              "      <th>year</th>\n",
              "      <th>wind_speed</th>\n",
              "      <th>wind_direction</th>\n",
              "      <th>temperature</th>\n",
              "    </tr>\n",
              "  </thead>\n",
              "  <tbody>\n",
              "    <tr>\n",
              "      <th>0</th>\n",
              "      <td>0.416</td>\n",
              "      <td>2.963</td>\n",
              "      <td>92.9</td>\n",
              "      <td>84.1</td>\n",
              "      <td>2305.052</td>\n",
              "      <td>159.235</td>\n",
              "      <td>-25.0</td>\n",
              "      <td>3.2</td>\n",
              "      <td>23.7</td>\n",
              "      <td>7.665</td>\n",
              "      <td>34.685</td>\n",
              "      <td>-11.960</td>\n",
              "      <td>1.72</td>\n",
              "      <td>3.56</td>\n",
              "      <td>2.0</td>\n",
              "      <td>-6.409</td>\n",
              "      <td>-136.065</td>\n",
              "      <td>-3.995</td>\n",
              "      <td>101.140000</td>\n",
              "      <td>2.280</td>\n",
              "      <td>158.780000</td>\n",
              "      <td>50.0</td>\n",
              "      <td>5.302</td>\n",
              "      <td>4.16</td>\n",
              "      <td>10.93</td>\n",
              "      <td>55.0</td>\n",
              "      <td>3.0</td>\n",
              "      <td>Strike</td>\n",
              "      <td>Four seam fastball</td>\n",
              "      <td>3</td>\n",
              "      <td>0.0</td>\n",
              "      <td>2.015000e+09</td>\n",
              "      <td>0.0</td>\n",
              "      <td>0.0</td>\n",
              "      <td>0.0</td>\n",
              "      <td>1.0</td>\n",
              "      <td>0.0</td>\n",
              "      <td>0.0</td>\n",
              "      <td>0.0</td>\n",
              "      <td>2015000001</td>\n",
              "      <td>572761</td>\n",
              "      <td>201500001</td>\n",
              "      <td>1</td>\n",
              "      <td>0</td>\n",
              "      <td>L</td>\n",
              "      <td>452657</td>\n",
              "      <td>L</td>\n",
              "      <td>True</td>\n",
              "      <td>2015000001</td>\n",
              "      <td>sln</td>\n",
              "      <td>chn</td>\n",
              "      <td>Wrigley Field</td>\n",
              "      <td>clear</td>\n",
              "      <td>2015</td>\n",
              "      <td>7</td>\n",
              "      <td>In from CF</td>\n",
              "      <td>44</td>\n",
              "    </tr>\n",
              "    <tr>\n",
              "      <th>1</th>\n",
              "      <td>-0.191</td>\n",
              "      <td>2.347</td>\n",
              "      <td>92.8</td>\n",
              "      <td>84.1</td>\n",
              "      <td>2689.935</td>\n",
              "      <td>151.402</td>\n",
              "      <td>-40.7</td>\n",
              "      <td>3.4</td>\n",
              "      <td>23.7</td>\n",
              "      <td>12.043</td>\n",
              "      <td>34.225</td>\n",
              "      <td>-10.085</td>\n",
              "      <td>1.72</td>\n",
              "      <td>3.56</td>\n",
              "      <td>2.0</td>\n",
              "      <td>-8.411</td>\n",
              "      <td>-135.690</td>\n",
              "      <td>-5.980</td>\n",
              "      <td>124.280000</td>\n",
              "      <td>2.119</td>\n",
              "      <td>175.410000</td>\n",
              "      <td>50.0</td>\n",
              "      <td>5.307</td>\n",
              "      <td>6.57</td>\n",
              "      <td>12.00</td>\n",
              "      <td>31.0</td>\n",
              "      <td>5.0</td>\n",
              "      <td>Strike</td>\n",
              "      <td>Four seam fastball</td>\n",
              "      <td>4</td>\n",
              "      <td>0.0</td>\n",
              "      <td>2.015000e+09</td>\n",
              "      <td>0.0</td>\n",
              "      <td>1.0</td>\n",
              "      <td>0.0</td>\n",
              "      <td>2.0</td>\n",
              "      <td>0.0</td>\n",
              "      <td>0.0</td>\n",
              "      <td>0.0</td>\n",
              "      <td>2015000001</td>\n",
              "      <td>572761</td>\n",
              "      <td>201500001</td>\n",
              "      <td>1</td>\n",
              "      <td>0</td>\n",
              "      <td>L</td>\n",
              "      <td>452657</td>\n",
              "      <td>L</td>\n",
              "      <td>True</td>\n",
              "      <td>2015000001</td>\n",
              "      <td>sln</td>\n",
              "      <td>chn</td>\n",
              "      <td>Wrigley Field</td>\n",
              "      <td>clear</td>\n",
              "      <td>2015</td>\n",
              "      <td>7</td>\n",
              "      <td>In from CF</td>\n",
              "      <td>44</td>\n",
              "    </tr>\n",
              "    <tr>\n",
              "      <th>2</th>\n",
              "      <td>-0.518</td>\n",
              "      <td>3.284</td>\n",
              "      <td>94.1</td>\n",
              "      <td>85.2</td>\n",
              "      <td>2647.972</td>\n",
              "      <td>145.125</td>\n",
              "      <td>-43.7</td>\n",
              "      <td>3.7</td>\n",
              "      <td>23.7</td>\n",
              "      <td>14.368</td>\n",
              "      <td>35.276</td>\n",
              "      <td>-11.560</td>\n",
              "      <td>1.72</td>\n",
              "      <td>3.56</td>\n",
              "      <td>2.0</td>\n",
              "      <td>-9.802</td>\n",
              "      <td>-137.668</td>\n",
              "      <td>-3.337</td>\n",
              "      <td>136.740000</td>\n",
              "      <td>2.127</td>\n",
              "      <td>150.110000</td>\n",
              "      <td>50.0</td>\n",
              "      <td>5.313</td>\n",
              "      <td>7.61</td>\n",
              "      <td>10.88</td>\n",
              "      <td>49.0</td>\n",
              "      <td>1.0</td>\n",
              "      <td>Foul</td>\n",
              "      <td>Four seam fastball</td>\n",
              "      <td>5</td>\n",
              "      <td>0.0</td>\n",
              "      <td>2.015000e+09</td>\n",
              "      <td>0.0</td>\n",
              "      <td>2.0</td>\n",
              "      <td>0.0</td>\n",
              "      <td>3.0</td>\n",
              "      <td>0.0</td>\n",
              "      <td>0.0</td>\n",
              "      <td>0.0</td>\n",
              "      <td>2015000001</td>\n",
              "      <td>572761</td>\n",
              "      <td>201500001</td>\n",
              "      <td>1</td>\n",
              "      <td>0</td>\n",
              "      <td>L</td>\n",
              "      <td>452657</td>\n",
              "      <td>L</td>\n",
              "      <td>True</td>\n",
              "      <td>2015000001</td>\n",
              "      <td>sln</td>\n",
              "      <td>chn</td>\n",
              "      <td>Wrigley Field</td>\n",
              "      <td>clear</td>\n",
              "      <td>2015</td>\n",
              "      <td>7</td>\n",
              "      <td>In from CF</td>\n",
              "      <td>44</td>\n",
              "    </tr>\n",
              "    <tr>\n",
              "      <th>3</th>\n",
              "      <td>-0.641</td>\n",
              "      <td>1.221</td>\n",
              "      <td>91.0</td>\n",
              "      <td>84.0</td>\n",
              "      <td>1289.590</td>\n",
              "      <td>169.751</td>\n",
              "      <td>-1.3</td>\n",
              "      <td>5.0</td>\n",
              "      <td>23.8</td>\n",
              "      <td>2.104</td>\n",
              "      <td>28.354</td>\n",
              "      <td>-20.540</td>\n",
              "      <td>1.74</td>\n",
              "      <td>3.35</td>\n",
              "      <td>2.0</td>\n",
              "      <td>-8.071</td>\n",
              "      <td>-133.005</td>\n",
              "      <td>-6.567</td>\n",
              "      <td>109.685636</td>\n",
              "      <td>2.279</td>\n",
              "      <td>187.463482</td>\n",
              "      <td>50.0</td>\n",
              "      <td>5.210</td>\n",
              "      <td>1.17</td>\n",
              "      <td>6.45</td>\n",
              "      <td>41.0</td>\n",
              "      <td>13.0</td>\n",
              "      <td>Ball</td>\n",
              "      <td>Four seam fastball</td>\n",
              "      <td>6</td>\n",
              "      <td>0.0</td>\n",
              "      <td>2.015000e+09</td>\n",
              "      <td>0.0</td>\n",
              "      <td>2.0</td>\n",
              "      <td>0.0</td>\n",
              "      <td>4.0</td>\n",
              "      <td>0.0</td>\n",
              "      <td>0.0</td>\n",
              "      <td>0.0</td>\n",
              "      <td>2015000001</td>\n",
              "      <td>572761</td>\n",
              "      <td>201500001</td>\n",
              "      <td>1</td>\n",
              "      <td>0</td>\n",
              "      <td>L</td>\n",
              "      <td>452657</td>\n",
              "      <td>L</td>\n",
              "      <td>True</td>\n",
              "      <td>2015000001</td>\n",
              "      <td>sln</td>\n",
              "      <td>chn</td>\n",
              "      <td>Wrigley Field</td>\n",
              "      <td>clear</td>\n",
              "      <td>2015</td>\n",
              "      <td>7</td>\n",
              "      <td>In from CF</td>\n",
              "      <td>44</td>\n",
              "    </tr>\n",
              "    <tr>\n",
              "      <th>4</th>\n",
              "      <td>-1.821</td>\n",
              "      <td>2.083</td>\n",
              "      <td>75.4</td>\n",
              "      <td>69.6</td>\n",
              "      <td>1374.569</td>\n",
              "      <td>280.671</td>\n",
              "      <td>18.4</td>\n",
              "      <td>12.0</td>\n",
              "      <td>23.8</td>\n",
              "      <td>-10.280</td>\n",
              "      <td>21.774</td>\n",
              "      <td>-34.111</td>\n",
              "      <td>1.72</td>\n",
              "      <td>3.56</td>\n",
              "      <td>2.0</td>\n",
              "      <td>-6.309</td>\n",
              "      <td>-110.409</td>\n",
              "      <td>0.325</td>\n",
              "      <td>146.527525</td>\n",
              "      <td>2.179</td>\n",
              "      <td>177.242829</td>\n",
              "      <td>50.0</td>\n",
              "      <td>5.557</td>\n",
              "      <td>-8.43</td>\n",
              "      <td>-1.65</td>\n",
              "      <td>18.0</td>\n",
              "      <td>13.0</td>\n",
              "      <td>Ball</td>\n",
              "      <td>Curveball</td>\n",
              "      <td>7</td>\n",
              "      <td>0.0</td>\n",
              "      <td>2.015000e+09</td>\n",
              "      <td>1.0</td>\n",
              "      <td>2.0</td>\n",
              "      <td>0.0</td>\n",
              "      <td>5.0</td>\n",
              "      <td>0.0</td>\n",
              "      <td>0.0</td>\n",
              "      <td>0.0</td>\n",
              "      <td>2015000001</td>\n",
              "      <td>572761</td>\n",
              "      <td>201500001</td>\n",
              "      <td>1</td>\n",
              "      <td>0</td>\n",
              "      <td>L</td>\n",
              "      <td>452657</td>\n",
              "      <td>L</td>\n",
              "      <td>True</td>\n",
              "      <td>2015000001</td>\n",
              "      <td>sln</td>\n",
              "      <td>chn</td>\n",
              "      <td>Wrigley Field</td>\n",
              "      <td>clear</td>\n",
              "      <td>2015</td>\n",
              "      <td>7</td>\n",
              "      <td>In from CF</td>\n",
              "      <td>44</td>\n",
              "    </tr>\n",
              "  </tbody>\n",
              "</table>\n",
              "</div>"
            ],
            "text/plain": [
              "      px     pz  start_speed  ...  wind_speed  wind_direction  temperature\n",
              "0  0.416  2.963         92.9  ...           7      In from CF           44\n",
              "1 -0.191  2.347         92.8  ...           7      In from CF           44\n",
              "2 -0.518  3.284         94.1  ...           7      In from CF           44\n",
              "3 -0.641  1.221         91.0  ...           7      In from CF           44\n",
              "4 -1.821  2.083         75.4  ...           7      In from CF           44\n",
              "\n",
              "[5 rows x 57 columns]"
            ]
          },
          "metadata": {
            "tags": []
          },
          "execution_count": 15
        }
      ]
    },
    {
      "cell_type": "code",
      "metadata": {
        "id": "K7qsMXzxJADC",
        "outputId": "62bdf599-f1ca-40de-f65a-ff739b6d6685",
        "colab": {
          "base_uri": "https://localhost:8080/",
          "height": 34
        }
      },
      "source": [
        "id_cols = [col for col in df.columns if '_id' in col]\n",
        "id_cols"
      ],
      "execution_count": null,
      "outputs": [
        {
          "output_type": "execute_result",
          "data": {
            "text/plain": [
              "['atbat_id', 'atbbat_id', 'batter_id', 'game_id', 'pitcher_id']"
            ]
          },
          "metadata": {
            "tags": []
          },
          "execution_count": 25
        }
      ]
    },
    {
      "cell_type": "markdown",
      "metadata": {
        "id": "Vk4Y6-2HWS_J"
      },
      "source": [
        "## Subsetting"
      ]
    },
    {
      "cell_type": "code",
      "metadata": {
        "id": "stUgcZ-A_moG",
        "outputId": "3b696b2e-1f05-451d-f7e9-a7ec0b2ea074",
        "colab": {
          "base_uri": "https://localhost:8080/",
          "height": 326
        }
      },
      "source": [
        "print(df.shape)\n",
        "df.head()"
      ],
      "execution_count": null,
      "outputs": [
        {
          "output_type": "stream",
          "text": [
            "(63285, 19)\n"
          ],
          "name": "stdout"
        },
        {
          "output_type": "execute_result",
          "data": {
            "text/html": [
              "<div>\n",
              "<style scoped>\n",
              "    .dataframe tbody tr th:only-of-type {\n",
              "        vertical-align: middle;\n",
              "    }\n",
              "\n",
              "    .dataframe tbody tr th {\n",
              "        vertical-align: top;\n",
              "    }\n",
              "\n",
              "    .dataframe thead th {\n",
              "        text-align: right;\n",
              "    }\n",
              "</style>\n",
              "<table border=\"1\" class=\"dataframe\">\n",
              "  <thead>\n",
              "    <tr style=\"text-align: right;\">\n",
              "      <th></th>\n",
              "      <th>result</th>\n",
              "      <th>inning</th>\n",
              "      <th>pitcher_team_score</th>\n",
              "      <th>p_throws</th>\n",
              "      <th>stand</th>\n",
              "      <th>top</th>\n",
              "      <th>attendance</th>\n",
              "      <th>away_team</th>\n",
              "      <th>elapsed_time</th>\n",
              "      <th>home_team</th>\n",
              "      <th>venue_name</th>\n",
              "      <th>weather</th>\n",
              "      <th>delay</th>\n",
              "      <th>year</th>\n",
              "      <th>wind_speed</th>\n",
              "      <th>wind_direction</th>\n",
              "      <th>temperature</th>\n",
              "      <th>batter</th>\n",
              "      <th>pitcher</th>\n",
              "    </tr>\n",
              "  </thead>\n",
              "  <tbody>\n",
              "    <tr>\n",
              "      <th>0</th>\n",
              "      <td>Out</td>\n",
              "      <td>1</td>\n",
              "      <td>0</td>\n",
              "      <td>L</td>\n",
              "      <td>L</td>\n",
              "      <td>True</td>\n",
              "      <td>35055</td>\n",
              "      <td>sln</td>\n",
              "      <td>184</td>\n",
              "      <td>chn</td>\n",
              "      <td>Wrigley Field</td>\n",
              "      <td>clear</td>\n",
              "      <td>0</td>\n",
              "      <td>2015</td>\n",
              "      <td>7</td>\n",
              "      <td>In from CF</td>\n",
              "      <td>44</td>\n",
              "      <td>Matt Carpenter</td>\n",
              "      <td>Jon Lester</td>\n",
              "    </tr>\n",
              "    <tr>\n",
              "      <th>1</th>\n",
              "      <td>On Base</td>\n",
              "      <td>2</td>\n",
              "      <td>0</td>\n",
              "      <td>L</td>\n",
              "      <td>L</td>\n",
              "      <td>True</td>\n",
              "      <td>35055</td>\n",
              "      <td>sln</td>\n",
              "      <td>184</td>\n",
              "      <td>chn</td>\n",
              "      <td>Wrigley Field</td>\n",
              "      <td>clear</td>\n",
              "      <td>0</td>\n",
              "      <td>2015</td>\n",
              "      <td>7</td>\n",
              "      <td>In from CF</td>\n",
              "      <td>44</td>\n",
              "      <td>Matt Carpenter</td>\n",
              "      <td>Jon Lester</td>\n",
              "    </tr>\n",
              "    <tr>\n",
              "      <th>2</th>\n",
              "      <td>On Base</td>\n",
              "      <td>5</td>\n",
              "      <td>0</td>\n",
              "      <td>L</td>\n",
              "      <td>L</td>\n",
              "      <td>True</td>\n",
              "      <td>35055</td>\n",
              "      <td>sln</td>\n",
              "      <td>184</td>\n",
              "      <td>chn</td>\n",
              "      <td>Wrigley Field</td>\n",
              "      <td>clear</td>\n",
              "      <td>0</td>\n",
              "      <td>2015</td>\n",
              "      <td>7</td>\n",
              "      <td>In from CF</td>\n",
              "      <td>44</td>\n",
              "      <td>Matt Carpenter</td>\n",
              "      <td>Jon Lester</td>\n",
              "    </tr>\n",
              "    <tr>\n",
              "      <th>3</th>\n",
              "      <td>On Base</td>\n",
              "      <td>1</td>\n",
              "      <td>2</td>\n",
              "      <td>L</td>\n",
              "      <td>L</td>\n",
              "      <td>False</td>\n",
              "      <td>42207</td>\n",
              "      <td>chn</td>\n",
              "      <td>176</td>\n",
              "      <td>sln</td>\n",
              "      <td>Busch Stadium</td>\n",
              "      <td>clear</td>\n",
              "      <td>0</td>\n",
              "      <td>2015</td>\n",
              "      <td>12</td>\n",
              "      <td>Out to LF</td>\n",
              "      <td>83</td>\n",
              "      <td>Matt Carpenter</td>\n",
              "      <td>Jon Lester</td>\n",
              "    </tr>\n",
              "    <tr>\n",
              "      <th>4</th>\n",
              "      <td>Out</td>\n",
              "      <td>3</td>\n",
              "      <td>3</td>\n",
              "      <td>L</td>\n",
              "      <td>L</td>\n",
              "      <td>False</td>\n",
              "      <td>42207</td>\n",
              "      <td>chn</td>\n",
              "      <td>176</td>\n",
              "      <td>sln</td>\n",
              "      <td>Busch Stadium</td>\n",
              "      <td>clear</td>\n",
              "      <td>0</td>\n",
              "      <td>2015</td>\n",
              "      <td>12</td>\n",
              "      <td>Out to LF</td>\n",
              "      <td>83</td>\n",
              "      <td>Matt Carpenter</td>\n",
              "      <td>Jon Lester</td>\n",
              "    </tr>\n",
              "  </tbody>\n",
              "</table>\n",
              "</div>"
            ],
            "text/plain": [
              "    result  inning  pitcher_team_score  ... temperature          batter     pitcher\n",
              "0      Out       1                   0  ...          44  Matt Carpenter  Jon Lester\n",
              "1  On Base       2                   0  ...          44  Matt Carpenter  Jon Lester\n",
              "2  On Base       5                   0  ...          44  Matt Carpenter  Jon Lester\n",
              "3  On Base       1                   2  ...          83  Matt Carpenter  Jon Lester\n",
              "4      Out       3                   3  ...          83  Matt Carpenter  Jon Lester\n",
              "\n",
              "[5 rows x 19 columns]"
            ]
          },
          "metadata": {
            "tags": []
          },
          "execution_count": 181
        }
      ]
    },
    {
      "cell_type": "code",
      "metadata": {
        "id": "je5Xfn-T3ifV"
      },
      "source": [
        "df_2015 = df[df['year'] == '2015']"
      ],
      "execution_count": null,
      "outputs": []
    },
    {
      "cell_type": "code",
      "metadata": {
        "id": "kHm34BpyTftg"
      },
      "source": [
        "# Getting home and away games for oakland\n",
        "oakland = df[(df['away_team'] == 'oak') | (df['home_team'] == 'oak')]"
      ],
      "execution_count": null,
      "outputs": []
    },
    {
      "cell_type": "code",
      "metadata": {
        "id": "Z6u3FjgpVyef"
      },
      "source": [
        "oakland_2015 = oakland[oakland['year'] == '2015']"
      ],
      "execution_count": null,
      "outputs": []
    },
    {
      "cell_type": "code",
      "metadata": {
        "id": "1PyRWMhjUKO4",
        "outputId": "b835e1fb-2b09-46bf-a3c5-04daca0a1070",
        "colab": {
          "base_uri": "https://localhost:8080/",
          "height": 34
        }
      },
      "source": [
        "print(oakland.shape)"
      ],
      "execution_count": null,
      "outputs": [
        {
          "output_type": "stream",
          "text": [
            "(190638, 57)\n"
          ],
          "name": "stdout"
        }
      ]
    },
    {
      "cell_type": "code",
      "metadata": {
        "id": "XNp-exhUYiOx",
        "outputId": "bb65e12a-2f82-4a0c-e39d-be32ce736c90",
        "colab": {
          "base_uri": "https://localhost:8080/",
          "height": 34
        }
      },
      "source": [
        "print(oakland_2015.shape)"
      ],
      "execution_count": null,
      "outputs": [
        {
          "output_type": "stream",
          "text": [
            "(47305, 54)\n"
          ],
          "name": "stdout"
        }
      ]
    },
    {
      "cell_type": "markdown",
      "metadata": {
        "id": "iMieA5sDdrpe"
      },
      "source": [
        "# Modeling"
      ]
    },
    {
      "cell_type": "code",
      "metadata": {
        "id": "NUnbVIxAld_I"
      },
      "source": [
        "df = wrangle(df)"
      ],
      "execution_count": null,
      "outputs": []
    },
    {
      "cell_type": "code",
      "metadata": {
        "id": "_otZN9nUZx0y"
      },
      "source": [
        "df = df_2015"
      ],
      "execution_count": null,
      "outputs": []
    },
    {
      "cell_type": "code",
      "metadata": {
        "id": "-fxWmFNs3wSF",
        "outputId": "ff99ae74-4b25-43c1-b7d3-a381fe2e0f1c",
        "colab": {
          "base_uri": "https://localhost:8080/",
          "height": 34
        }
      },
      "source": [
        "df.shape"
      ],
      "execution_count": null,
      "outputs": [
        {
          "output_type": "execute_result",
          "data": {
            "text/plain": [
              "(181685, 19)"
            ]
          },
          "metadata": {
            "tags": []
          },
          "execution_count": 146
        }
      ]
    },
    {
      "cell_type": "code",
      "metadata": {
        "id": "0-idASE2isij",
        "outputId": "07e043d3-81ac-421a-e73f-243c24a893c4",
        "colab": {
          "base_uri": "https://localhost:8080/",
          "height": 34
        }
      },
      "source": [
        "np.nan"
      ],
      "execution_count": null,
      "outputs": [
        {
          "output_type": "execute_result",
          "data": {
            "text/plain": [
              "nan"
            ]
          },
          "metadata": {
            "tags": []
          },
          "execution_count": 168
        }
      ]
    },
    {
      "cell_type": "code",
      "metadata": {
        "id": "cHPqDyK0uq7u",
        "outputId": "b301c2fc-fd28-46e6-bdd8-572a6b252684",
        "colab": {
          "base_uri": "https://localhost:8080/",
          "height": 297
        }
      },
      "source": [
        "df.describe()"
      ],
      "execution_count": null,
      "outputs": [
        {
          "output_type": "execute_result",
          "data": {
            "text/html": [
              "<div>\n",
              "<style scoped>\n",
              "    .dataframe tbody tr th:only-of-type {\n",
              "        vertical-align: middle;\n",
              "    }\n",
              "\n",
              "    .dataframe tbody tr th {\n",
              "        vertical-align: top;\n",
              "    }\n",
              "\n",
              "    .dataframe thead th {\n",
              "        text-align: right;\n",
              "    }\n",
              "</style>\n",
              "<table border=\"1\" class=\"dataframe\">\n",
              "  <thead>\n",
              "    <tr style=\"text-align: right;\">\n",
              "      <th></th>\n",
              "      <th>inning</th>\n",
              "      <th>pitcher_team_score</th>\n",
              "      <th>attendance</th>\n",
              "      <th>elapsed_time</th>\n",
              "      <th>delay</th>\n",
              "      <th>wind_speed</th>\n",
              "      <th>temperature</th>\n",
              "    </tr>\n",
              "  </thead>\n",
              "  <tbody>\n",
              "    <tr>\n",
              "      <th>count</th>\n",
              "      <td>1571.000000</td>\n",
              "      <td>1571.000000</td>\n",
              "      <td>1571.000000</td>\n",
              "      <td>1571.000000</td>\n",
              "      <td>1571.000000</td>\n",
              "      <td>1571.000000</td>\n",
              "      <td>1571.000000</td>\n",
              "    </tr>\n",
              "    <tr>\n",
              "      <th>mean</th>\n",
              "      <td>3.514959</td>\n",
              "      <td>1.620624</td>\n",
              "      <td>29392.349459</td>\n",
              "      <td>186.714195</td>\n",
              "      <td>4.309994</td>\n",
              "      <td>7.990452</td>\n",
              "      <td>72.737747</td>\n",
              "    </tr>\n",
              "    <tr>\n",
              "      <th>std</th>\n",
              "      <td>2.133506</td>\n",
              "      <td>2.179507</td>\n",
              "      <td>9627.451626</td>\n",
              "      <td>28.074272</td>\n",
              "      <td>25.265898</td>\n",
              "      <td>5.127474</td>\n",
              "      <td>10.915657</td>\n",
              "    </tr>\n",
              "    <tr>\n",
              "      <th>min</th>\n",
              "      <td>1.000000</td>\n",
              "      <td>0.000000</td>\n",
              "      <td>1.000000</td>\n",
              "      <td>133.000000</td>\n",
              "      <td>0.000000</td>\n",
              "      <td>0.000000</td>\n",
              "      <td>27.000000</td>\n",
              "    </tr>\n",
              "    <tr>\n",
              "      <th>25%</th>\n",
              "      <td>1.000000</td>\n",
              "      <td>0.000000</td>\n",
              "      <td>22346.000000</td>\n",
              "      <td>167.500000</td>\n",
              "      <td>0.000000</td>\n",
              "      <td>4.000000</td>\n",
              "      <td>68.000000</td>\n",
              "    </tr>\n",
              "    <tr>\n",
              "      <th>50%</th>\n",
              "      <td>3.000000</td>\n",
              "      <td>1.000000</td>\n",
              "      <td>30665.000000</td>\n",
              "      <td>184.000000</td>\n",
              "      <td>0.000000</td>\n",
              "      <td>8.000000</td>\n",
              "      <td>73.000000</td>\n",
              "    </tr>\n",
              "    <tr>\n",
              "      <th>75%</th>\n",
              "      <td>5.000000</td>\n",
              "      <td>3.000000</td>\n",
              "      <td>37030.000000</td>\n",
              "      <td>200.000000</td>\n",
              "      <td>0.000000</td>\n",
              "      <td>12.000000</td>\n",
              "      <td>80.000000</td>\n",
              "    </tr>\n",
              "    <tr>\n",
              "      <th>max</th>\n",
              "      <td>9.000000</td>\n",
              "      <td>14.000000</td>\n",
              "      <td>53598.000000</td>\n",
              "      <td>386.000000</td>\n",
              "      <td>290.000000</td>\n",
              "      <td>22.000000</td>\n",
              "      <td>103.000000</td>\n",
              "    </tr>\n",
              "  </tbody>\n",
              "</table>\n",
              "</div>"
            ],
            "text/plain": [
              "            inning  pitcher_team_score  ...   wind_speed  temperature\n",
              "count  1571.000000         1571.000000  ...  1571.000000  1571.000000\n",
              "mean      3.514959            1.620624  ...     7.990452    72.737747\n",
              "std       2.133506            2.179507  ...     5.127474    10.915657\n",
              "min       1.000000            0.000000  ...     0.000000    27.000000\n",
              "25%       1.000000            0.000000  ...     4.000000    68.000000\n",
              "50%       3.000000            1.000000  ...     8.000000    73.000000\n",
              "75%       5.000000            3.000000  ...    12.000000    80.000000\n",
              "max       9.000000           14.000000  ...    22.000000   103.000000\n",
              "\n",
              "[8 rows x 7 columns]"
            ]
          },
          "metadata": {
            "tags": []
          },
          "execution_count": 267
        }
      ]
    },
    {
      "cell_type": "code",
      "metadata": {
        "id": "_yGAoAnyXf2P",
        "outputId": "6ef3b1a9-f122-47ba-931f-db43ae34c1a9",
        "colab": {
          "base_uri": "https://localhost:8080/",
          "height": 34
        }
      },
      "source": [
        "df['batter'].nunique()"
      ],
      "execution_count": null,
      "outputs": [
        {
          "output_type": "execute_result",
          "data": {
            "text/plain": [
              "956"
            ]
          },
          "metadata": {
            "tags": []
          },
          "execution_count": 155
        }
      ]
    },
    {
      "cell_type": "code",
      "metadata": {
        "id": "mSpSjkhMX8br"
      },
      "source": [
        "most_at_bats = df['batter'].value_counts().head(100)\n",
        "most_used_pitcher = df['pitcher'].value_counts().head(100)"
      ],
      "execution_count": null,
      "outputs": []
    },
    {
      "cell_type": "code",
      "metadata": {
        "id": "UdPzOxvMrFd5"
      },
      "source": [
        "most_at_bats = df['batter'].value_counts().head(10)\n",
        "most_used_pitcher = df['pitcher'].value_counts().head(10)"
      ],
      "execution_count": null,
      "outputs": []
    },
    {
      "cell_type": "code",
      "metadata": {
        "id": "WfKv3OvGhlzR"
      },
      "source": [
        "def top_100_batters(name):\n",
        "  if name in most_at_bats:\n",
        "    return name\n",
        "  else:\n",
        "    return np.nan"
      ],
      "execution_count": null,
      "outputs": []
    },
    {
      "cell_type": "code",
      "metadata": {
        "id": "8zNprrmamA4h"
      },
      "source": [
        "def top_100_pitchers(name):\n",
        "  if name in most_used_pitcher:\n",
        "    return name\n",
        "  else:\n",
        "    return np.nan"
      ],
      "execution_count": null,
      "outputs": []
    },
    {
      "cell_type": "code",
      "metadata": {
        "id": "zFVWNbEPjGJ3"
      },
      "source": [
        "df['batter'] = df['batter'].apply(top_100_batters)\n"
      ],
      "execution_count": null,
      "outputs": []
    },
    {
      "cell_type": "code",
      "metadata": {
        "id": "8FTIQC5ul2Xa"
      },
      "source": [
        "df['pitcher'] = df['pitcher'].apply(top_100_pitchers)"
      ],
      "execution_count": null,
      "outputs": []
    },
    {
      "cell_type": "code",
      "metadata": {
        "id": "mhLpevZijw7p"
      },
      "source": [
        "df.dropna(axis= 0, inplace= True)"
      ],
      "execution_count": null,
      "outputs": []
    },
    {
      "cell_type": "code",
      "metadata": {
        "id": "IVek7F90jBNx",
        "outputId": "61b6b15b-8d20-412d-db43-336dbbe9c840",
        "colab": {
          "base_uri": "https://localhost:8080/",
          "height": 221
        }
      },
      "source": [
        "df['batter'].value_counts()"
      ],
      "execution_count": null,
      "outputs": [
        {
          "output_type": "execute_result",
          "data": {
            "text/plain": [
              "Ian Kinsler        946\n",
              "Manny Machado      918\n",
              "Brian Dozier       904\n",
              "Evan Longoria      880\n",
              "Alcides Escobar    878\n",
              "                  ... \n",
              "Brett Lawrie       390\n",
              "Billy Butler       342\n",
              "Alex Rodriguez     332\n",
              "Jimmy Rollins      286\n",
              "Torii Hunter       267\n",
              "Name: batter, Length: 100, dtype: int64"
            ]
          },
          "metadata": {
            "tags": []
          },
          "execution_count": 229
        }
      ]
    },
    {
      "cell_type": "code",
      "metadata": {
        "id": "V6hLwJ8h_ZWH",
        "outputId": "c9f00d71-1716-44c6-9e87-de1e2d8b58eb",
        "colab": {
          "base_uri": "https://localhost:8080/",
          "height": 297
        }
      },
      "source": [
        "df.describe()"
      ],
      "execution_count": null,
      "outputs": [
        {
          "output_type": "execute_result",
          "data": {
            "text/html": [
              "<div>\n",
              "<style scoped>\n",
              "    .dataframe tbody tr th:only-of-type {\n",
              "        vertical-align: middle;\n",
              "    }\n",
              "\n",
              "    .dataframe tbody tr th {\n",
              "        vertical-align: top;\n",
              "    }\n",
              "\n",
              "    .dataframe thead th {\n",
              "        text-align: right;\n",
              "    }\n",
              "</style>\n",
              "<table border=\"1\" class=\"dataframe\">\n",
              "  <thead>\n",
              "    <tr style=\"text-align: right;\">\n",
              "      <th></th>\n",
              "      <th>inning</th>\n",
              "      <th>pitcher_team_score</th>\n",
              "      <th>attendance</th>\n",
              "      <th>elapsed_time</th>\n",
              "      <th>delay</th>\n",
              "      <th>wind_speed</th>\n",
              "      <th>temperature</th>\n",
              "    </tr>\n",
              "  </thead>\n",
              "  <tbody>\n",
              "    <tr>\n",
              "      <th>count</th>\n",
              "      <td>234373.000000</td>\n",
              "      <td>234373.000000</td>\n",
              "      <td>234373.000000</td>\n",
              "      <td>234373.000000</td>\n",
              "      <td>234373.000000</td>\n",
              "      <td>234373.000000</td>\n",
              "      <td>234373.000000</td>\n",
              "    </tr>\n",
              "    <tr>\n",
              "      <th>mean</th>\n",
              "      <td>4.826823</td>\n",
              "      <td>2.171393</td>\n",
              "      <td>29871.027870</td>\n",
              "      <td>187.326697</td>\n",
              "      <td>4.033617</td>\n",
              "      <td>7.529344</td>\n",
              "      <td>73.711166</td>\n",
              "    </tr>\n",
              "    <tr>\n",
              "      <th>std</th>\n",
              "      <td>2.715497</td>\n",
              "      <td>2.540190</td>\n",
              "      <td>10026.476072</td>\n",
              "      <td>28.933137</td>\n",
              "      <td>27.683415</td>\n",
              "      <td>5.015617</td>\n",
              "      <td>10.706629</td>\n",
              "    </tr>\n",
              "    <tr>\n",
              "      <th>min</th>\n",
              "      <td>1.000000</td>\n",
              "      <td>0.000000</td>\n",
              "      <td>0.000000</td>\n",
              "      <td>75.000000</td>\n",
              "      <td>0.000000</td>\n",
              "      <td>0.000000</td>\n",
              "      <td>27.000000</td>\n",
              "    </tr>\n",
              "    <tr>\n",
              "      <th>25%</th>\n",
              "      <td>3.000000</td>\n",
              "      <td>0.000000</td>\n",
              "      <td>22045.000000</td>\n",
              "      <td>169.000000</td>\n",
              "      <td>0.000000</td>\n",
              "      <td>4.000000</td>\n",
              "      <td>68.000000</td>\n",
              "    </tr>\n",
              "    <tr>\n",
              "      <th>50%</th>\n",
              "      <td>5.000000</td>\n",
              "      <td>1.000000</td>\n",
              "      <td>30316.000000</td>\n",
              "      <td>184.000000</td>\n",
              "      <td>0.000000</td>\n",
              "      <td>7.000000</td>\n",
              "      <td>74.000000</td>\n",
              "    </tr>\n",
              "    <tr>\n",
              "      <th>75%</th>\n",
              "      <td>7.000000</td>\n",
              "      <td>3.000000</td>\n",
              "      <td>37821.000000</td>\n",
              "      <td>201.000000</td>\n",
              "      <td>0.000000</td>\n",
              "      <td>11.000000</td>\n",
              "      <td>81.000000</td>\n",
              "    </tr>\n",
              "    <tr>\n",
              "      <th>max</th>\n",
              "      <td>19.000000</td>\n",
              "      <td>24.000000</td>\n",
              "      <td>56310.000000</td>\n",
              "      <td>409.000000</td>\n",
              "      <td>1860.000000</td>\n",
              "      <td>28.000000</td>\n",
              "      <td>108.000000</td>\n",
              "    </tr>\n",
              "  </tbody>\n",
              "</table>\n",
              "</div>"
            ],
            "text/plain": [
              "              inning  pitcher_team_score  ...     wind_speed    temperature\n",
              "count  234373.000000       234373.000000  ...  234373.000000  234373.000000\n",
              "mean        4.826823            2.171393  ...       7.529344      73.711166\n",
              "std         2.715497            2.540190  ...       5.015617      10.706629\n",
              "min         1.000000            0.000000  ...       0.000000      27.000000\n",
              "25%         3.000000            0.000000  ...       4.000000      68.000000\n",
              "50%         5.000000            1.000000  ...       7.000000      74.000000\n",
              "75%         7.000000            3.000000  ...      11.000000      81.000000\n",
              "max        19.000000           24.000000  ...      28.000000     108.000000\n",
              "\n",
              "[8 rows x 7 columns]"
            ]
          },
          "metadata": {
            "tags": []
          },
          "execution_count": 286
        }
      ]
    },
    {
      "cell_type": "code",
      "metadata": {
        "id": "FeDU6hopjbm_",
        "outputId": "a487ee84-950b-44af-f3fc-402280f85554",
        "colab": {
          "base_uri": "https://localhost:8080/",
          "height": 102
        }
      },
      "source": [
        "df.columns"
      ],
      "execution_count": null,
      "outputs": [
        {
          "output_type": "execute_result",
          "data": {
            "text/plain": [
              "Index(['result', 'inning', 'pitcher_team_score', 'p_throws', 'stand', 'top',\n",
              "       'attendance', 'away_team', 'elapsed_time', 'home_team', 'venue_name',\n",
              "       'weather', 'delay', 'year', 'wind_speed', 'wind_direction',\n",
              "       'temperature', 'batter', 'pitcher'],\n",
              "      dtype='object')"
            ]
          },
          "metadata": {
            "tags": []
          },
          "execution_count": 266
        }
      ]
    },
    {
      "cell_type": "code",
      "metadata": {
        "id": "NaXkFCJoAjhy"
      },
      "source": [
        "nans = []\n",
        "for i in range(len(df.columns)):\n",
        "  nans.append('np.NaN')"
      ],
      "execution_count": null,
      "outputs": []
    },
    {
      "cell_type": "code",
      "metadata": {
        "id": "5g6L6SooAxx5",
        "outputId": "1f1a3e39-ed16-4c6b-a38b-85f44799490b",
        "colab": {
          "base_uri": "https://localhost:8080/",
          "height": 34
        }
      },
      "source": [
        "df.shape"
      ],
      "execution_count": null,
      "outputs": [
        {
          "output_type": "execute_result",
          "data": {
            "text/plain": [
              "(234373, 19)"
            ]
          },
          "metadata": {
            "tags": []
          },
          "execution_count": 329
        }
      ]
    },
    {
      "cell_type": "code",
      "metadata": {
        "id": "3B2TG4exh2D6",
        "outputId": "71e0cef2-bfac-4140-fa51-e492565c4d06",
        "colab": {
          "base_uri": "https://localhost:8080/",
          "height": 459
        }
      },
      "source": [
        "df.info()"
      ],
      "execution_count": null,
      "outputs": [
        {
          "output_type": "stream",
          "text": [
            "<class 'pandas.core.frame.DataFrame'>\n",
            "Int64Index: 82262 entries, 0 to 686427\n",
            "Data columns (total 19 columns):\n",
            " #   Column              Non-Null Count  Dtype \n",
            "---  ------              --------------  ----- \n",
            " 0   result              82262 non-null  object\n",
            " 1   inning              82262 non-null  int64 \n",
            " 2   pitcher_team_score  82262 non-null  int64 \n",
            " 3   p_throws            82262 non-null  object\n",
            " 4   stand               82262 non-null  object\n",
            " 5   top                 82262 non-null  bool  \n",
            " 6   attendance          82262 non-null  int64 \n",
            " 7   away_team           82262 non-null  object\n",
            " 8   elapsed_time        82262 non-null  int64 \n",
            " 9   home_team           82262 non-null  object\n",
            " 10  venue_name          82262 non-null  object\n",
            " 11  weather             82262 non-null  object\n",
            " 12  delay               82262 non-null  int64 \n",
            " 13  year                82262 non-null  object\n",
            " 14  wind_speed          82262 non-null  int64 \n",
            " 15  wind_direction      82262 non-null  object\n",
            " 16  temperature         82262 non-null  int64 \n",
            " 17  batter              82262 non-null  object\n",
            " 18  pitcher             82262 non-null  object\n",
            "dtypes: bool(1), int64(7), object(11)\n",
            "memory usage: 12.0+ MB\n"
          ],
          "name": "stdout"
        }
      ]
    },
    {
      "cell_type": "markdown",
      "metadata": {
        "id": "5NcVOtJpexbN"
      },
      "source": [
        "## Baseline"
      ]
    },
    {
      "cell_type": "code",
      "metadata": {
        "id": "HtTlMNf5eQiq",
        "outputId": "d8c9d440-3162-4812-be8f-b355fc10b003",
        "colab": {
          "base_uri": "https://localhost:8080/",
          "height": 85
        }
      },
      "source": [
        "print('Baseline:\\n', round(df['result'].value_counts(normalize = True)*100, 3),'%')\n"
      ],
      "execution_count": null,
      "outputs": [
        {
          "output_type": "stream",
          "text": [
            "Baseline:\n",
            " Out        64.591\n",
            "On Base    35.409\n",
            "Name: result, dtype: float64 %\n"
          ],
          "name": "stdout"
        }
      ]
    },
    {
      "cell_type": "markdown",
      "metadata": {
        "id": "yui-gdgvipM6"
      },
      "source": [
        "## Train - test split"
      ]
    },
    {
      "cell_type": "code",
      "metadata": {
        "id": "B5jevk1zisf4"
      },
      "source": [
        "target = 'result'\n",
        "y = df[target]\n",
        "X = df.drop(columns= target)\n",
        "X_train, X_test, y_train, y_test = train_test_split(X, y, test_size= 0.2, random_state= 42)"
      ],
      "execution_count": null,
      "outputs": []
    },
    {
      "cell_type": "markdown",
      "metadata": {
        "id": "SOCDaZlhdbJv"
      },
      "source": [
        "## First model 0.782\n",
        "- using at_bats\n",
        "- no features\n",
        "- random forest : no tuning\n",
        "- predicted probabilites\n"
      ]
    },
    {
      "cell_type": "code",
      "metadata": {
        "id": "wWjN3_8SdecC"
      },
      "source": [
        "y = at_bats['result']\n",
        "X = at_bats.loc[:,'inning':]\n",
        "X = X.drop(columns= 'pitcher_id')\n",
        "\n",
        "# Splitting out test data\n",
        "X_train, X_test, y_train, y_test = train_test_split(X, y, test_size = 0.2, random_state = 42)"
      ],
      "execution_count": null,
      "outputs": []
    },
    {
      "cell_type": "code",
      "metadata": {
        "id": "BRWJt5lgiVl2",
        "outputId": "240402ea-4f3e-42d9-e676-46d3314e9e4f",
        "colab": {
          "base_uri": "https://localhost:8080/",
          "height": 544
        }
      },
      "source": [
        "model = make_pipeline(\n",
        "    OrdinalEncoder(),\n",
        "    RandomForestClassifier(\n",
        "        n_jobs= -1,\n",
        "        verbose= 1),\n",
        ");\n",
        "model.fit(X_train, y_train)"
      ],
      "execution_count": null,
      "outputs": [
        {
          "output_type": "stream",
          "text": [
            "[Parallel(n_jobs=-1)]: Using backend ThreadingBackend with 2 concurrent workers.\n",
            "[Parallel(n_jobs=-1)]: Done  46 tasks      | elapsed:    2.8s\n",
            "[Parallel(n_jobs=-1)]: Done 100 out of 100 | elapsed:    6.0s finished\n"
          ],
          "name": "stderr"
        },
        {
          "output_type": "execute_result",
          "data": {
            "text/plain": [
              "Pipeline(memory=None,\n",
              "         steps=[('ordinalencoder',\n",
              "                 OrdinalEncoder(cols=['p_throws', 'stand', 'away_team',\n",
              "                                      'home_team', 'venue_name', 'weather',\n",
              "                                      'year', 'wind_direction', 'batter',\n",
              "                                      'pitcher'],\n",
              "                                drop_invariant=False, handle_missing='value',\n",
              "                                handle_unknown='value',\n",
              "                                mapping=[{'col': 'p_throws',\n",
              "                                          'data_type': dtype('O'),\n",
              "                                          'mapping': L      1\n",
              "R      2\n",
              "NaN   -2\n",
              "dtype: int64},\n",
              "                                         {'col': 'stand',\n",
              "                                          'data_typ...\n",
              "                 RandomForestClassifier(bootstrap=True, ccp_alpha=0.0,\n",
              "                                        class_weight=None, criterion='gini',\n",
              "                                        max_depth=None, max_features='auto',\n",
              "                                        max_leaf_nodes=None, max_samples=None,\n",
              "                                        min_impurity_decrease=0.0,\n",
              "                                        min_impurity_split=None,\n",
              "                                        min_samples_leaf=1, min_samples_split=2,\n",
              "                                        min_weight_fraction_leaf=0.0,\n",
              "                                        n_estimators=100, n_jobs=-1,\n",
              "                                        oob_score=False, random_state=None,\n",
              "                                        verbose=1, warm_start=False))],\n",
              "         verbose=False)"
            ]
          },
          "metadata": {
            "tags": []
          },
          "execution_count": 184
        }
      ]
    },
    {
      "cell_type": "code",
      "metadata": {
        "id": "95dqgucE4Pfg",
        "outputId": "64f373cc-14f6-4c4e-d5f4-7cae30c59695",
        "colab": {
          "base_uri": "https://localhost:8080/",
          "height": 51
        }
      },
      "source": [
        "score = cross_val_score(model, X_train, y_train, n_jobs = -1, verbose = 1, scoring= 'accuracy')"
      ],
      "execution_count": null,
      "outputs": [
        {
          "output_type": "stream",
          "text": [
            "[Parallel(n_jobs=-1)]: Using backend LokyBackend with 2 concurrent workers.\n",
            "[Parallel(n_jobs=-1)]: Done   5 out of   5 | elapsed:   28.2s finished\n"
          ],
          "name": "stderr"
        }
      ]
    },
    {
      "cell_type": "code",
      "metadata": {
        "id": "RXmToWQc4hAd",
        "outputId": "ec2794ce-d3c3-4768-b21e-611f7eb0467c",
        "colab": {
          "base_uri": "https://localhost:8080/",
          "height": 34
        }
      },
      "source": [
        "print('CV accuracy score:', score.mean())"
      ],
      "execution_count": null,
      "outputs": [
        {
          "output_type": "stream",
          "text": [
            "CV accuracy score: 0.5893774237203825\n"
          ],
          "name": "stdout"
        }
      ]
    },
    {
      "cell_type": "code",
      "metadata": {
        "id": "km3jKB-coyOu"
      },
      "source": [
        "y_pred_proba = cross_val_predict(model, X_train, y_train, cv=3, n_jobs=-1, \n",
        "                                 method='predict_proba')[:,1]"
      ],
      "execution_count": null,
      "outputs": []
    },
    {
      "cell_type": "code",
      "metadata": {
        "id": "XRcgQLWaqrlK"
      },
      "source": [
        "y_plot = y_pred_proba.copy()\n",
        "y_plot = sorted(y_plot)[:]"
      ],
      "execution_count": null,
      "outputs": []
    },
    {
      "cell_type": "code",
      "metadata": {
        "id": "2kp_4pKa5h9d"
      },
      "source": [
        "fig, ax = plt.subplots()\n",
        "fig.set_facecolor('lightgrey')\n",
        "fig.set_figheight(10)\n",
        "fig.set_figwidth(20)\n",
        "plt.title('Prediction Probabilities')\n",
        "plt.scatter(x= np.arange(len(y_plot)), y= y_plot, marker= '.')\n",
        "plt.show();"
      ],
      "execution_count": null,
      "outputs": []
    },
    {
      "cell_type": "markdown",
      "metadata": {
        "id": "wKITIyib7QhB"
      },
      "source": [
        "## Second model 0.784\n",
        "- using at_bats\n",
        "- no features\n",
        "- XGBoost"
      ]
    },
    {
      "cell_type": "code",
      "metadata": {
        "id": "HyD24zh27fH8"
      },
      "source": [
        "y = at_bats['result']\n",
        "X = at_bats.loc[:,'inning':]\n",
        "X = X.drop(columns= 'pitcher_id')\n",
        "\n",
        "# Splitting out test data\n",
        "X_train, X_test, y_train, y_test = train_test_split(X, y, test_size = 0.2, random_state = 42)"
      ],
      "execution_count": null,
      "outputs": []
    },
    {
      "cell_type": "code",
      "metadata": {
        "id": "g4gTdQsL8Drq",
        "outputId": "cc77a99e-d103-4a10-b20a-dbdac9a147c0",
        "colab": {
          "base_uri": "https://localhost:8080/",
          "height": 476
        }
      },
      "source": [
        "xgb_model = make_pipeline(\n",
        "    OrdinalEncoder(),\n",
        "    XGBClassifier()\n",
        ")\n",
        "xgb_model.fit(X_train, y_train)"
      ],
      "execution_count": null,
      "outputs": [
        {
          "output_type": "execute_result",
          "data": {
            "text/plain": [
              "Pipeline(memory=None,\n",
              "         steps=[('ordinalencoder',\n",
              "                 OrdinalEncoder(cols=['p_throws', 'stand', 'away_team',\n",
              "                                      'home_team', 'venue_name', 'weather',\n",
              "                                      'year', 'wind_direction', 'batter',\n",
              "                                      'pitcher'],\n",
              "                                drop_invariant=False, handle_missing='value',\n",
              "                                handle_unknown='value',\n",
              "                                mapping=[{'col': 'p_throws',\n",
              "                                          'data_type': dtype('O'),\n",
              "                                          'mapping': L      1\n",
              "R      2\n",
              "NaN   -2\n",
              "dtype: int64},\n",
              "                                         {'col': 'stand',\n",
              "                                          'data_typ...\n",
              "                 XGBClassifier(base_score=0.5, booster='gbtree',\n",
              "                               colsample_bylevel=1, colsample_bynode=1,\n",
              "                               colsample_bytree=1, gamma=0, learning_rate=0.1,\n",
              "                               max_delta_step=0, max_depth=3,\n",
              "                               min_child_weight=1, missing=None,\n",
              "                               n_estimators=100, n_jobs=1, nthread=None,\n",
              "                               objective='binary:logistic', random_state=0,\n",
              "                               reg_alpha=0, reg_lambda=1, scale_pos_weight=1,\n",
              "                               seed=None, silent=None, subsample=1,\n",
              "                               verbosity=1))],\n",
              "         verbose=False)"
            ]
          },
          "metadata": {
            "tags": []
          },
          "execution_count": 213
        }
      ]
    },
    {
      "cell_type": "code",
      "metadata": {
        "id": "mnDcsLGG8LY1",
        "outputId": "074b8b40-347b-43e2-cc2b-e132c1622e3a",
        "colab": {
          "base_uri": "https://localhost:8080/",
          "height": 105
        }
      },
      "source": [
        "xgb_score = cross_val_score(xgb_model, X_train, y_train, scoring= 'accuracy', verbose= 1)"
      ],
      "execution_count": null,
      "outputs": [
        {
          "output_type": "stream",
          "text": [
            "[Parallel(n_jobs=1)]: Using backend SequentialBackend with 1 concurrent workers.\n",
            "/usr/local/lib/python3.6/dist-packages/category_encoders/utils.py:21: FutureWarning: is_categorical is deprecated and will be removed in a future version.  Use is_categorical_dtype instead\n",
            "  elif pd.api.types.is_categorical(cols):\n",
            "[Parallel(n_jobs=1)]: Done   5 out of   5 | elapsed:   43.7s finished\n"
          ],
          "name": "stderr"
        }
      ]
    },
    {
      "cell_type": "code",
      "metadata": {
        "id": "eT772Fn18asA",
        "outputId": "83c34720-1821-4a96-cf54-773d7c0b4552",
        "colab": {
          "base_uri": "https://localhost:8080/",
          "height": 34
        }
      },
      "source": [
        "print('XGB training accuracy:', xgb_score.mean())"
      ],
      "execution_count": null,
      "outputs": [
        {
          "output_type": "stream",
          "text": [
            "XGB training accuracy: 0.6776470724069793\n"
          ],
          "name": "stdout"
        }
      ]
    },
    {
      "cell_type": "markdown",
      "metadata": {
        "id": "ZYeVirumJysB"
      },
      "source": [
        "## Third model 0.782\n",
        "- low-card games and at_bats\n",
        "- XGBoost\n",
        "- no tuning"
      ]
    },
    {
      "cell_type": "code",
      "metadata": {
        "id": "uMaKk7ApQSsx"
      },
      "source": [
        "y = df['result']\n",
        "X = df.drop(columns= 'result')\n",
        "X_train, X_test, y_train, y_test = train_test_split(X, y, test_size= 0.2, random_state= 42)"
      ],
      "execution_count": null,
      "outputs": []
    },
    {
      "cell_type": "code",
      "metadata": {
        "id": "x26NlFAfKAEN"
      },
      "source": [
        "gb = make_pipeline(\n",
        "    OrdinalEncoder(),\n",
        "    XGBClassifier(n_jobs= -1)\n",
        ")"
      ],
      "execution_count": null,
      "outputs": []
    },
    {
      "cell_type": "code",
      "metadata": {
        "id": "AJxfjH6vSxoN",
        "outputId": "27e2661d-1d69-4d50-d505-543a5836f171",
        "colab": {
          "base_uri": "https://localhost:8080/",
          "height": 476
        }
      },
      "source": [
        "gb.fit(X_train, y_train)"
      ],
      "execution_count": null,
      "outputs": [
        {
          "output_type": "execute_result",
          "data": {
            "text/plain": [
              "Pipeline(memory=None,\n",
              "         steps=[('ordinalencoder',\n",
              "                 OrdinalEncoder(cols=['p_throws', 'stand', 'away_team',\n",
              "                                      'home_team', 'venue_name', 'weather',\n",
              "                                      'year', 'wind_direction', 'batter',\n",
              "                                      'pitcher'],\n",
              "                                drop_invariant=False, handle_missing='value',\n",
              "                                handle_unknown='value',\n",
              "                                mapping=[{'col': 'p_throws',\n",
              "                                          'data_type': dtype('O'),\n",
              "                                          'mapping': R      1\n",
              "L      2\n",
              "NaN   -2\n",
              "dtype: int64},\n",
              "                                         {'col': 'stand',\n",
              "                                          'data_typ...\n",
              "                 XGBClassifier(base_score=0.5, booster='gbtree',\n",
              "                               colsample_bylevel=1, colsample_bynode=1,\n",
              "                               colsample_bytree=1, gamma=0, learning_rate=0.1,\n",
              "                               max_delta_step=0, max_depth=3,\n",
              "                               min_child_weight=1, missing=None,\n",
              "                               n_estimators=100, n_jobs=-1, nthread=None,\n",
              "                               objective='binary:logistic', random_state=0,\n",
              "                               reg_alpha=0, reg_lambda=1, scale_pos_weight=1,\n",
              "                               seed=None, silent=None, subsample=1,\n",
              "                               verbosity=1))],\n",
              "         verbose=False)"
            ]
          },
          "metadata": {
            "tags": []
          },
          "execution_count": 263
        }
      ]
    },
    {
      "cell_type": "code",
      "metadata": {
        "id": "Qp0TZ0G8Qyhl",
        "outputId": "2d5d8959-1c2b-476f-c235-bce7afc0b653",
        "colab": {
          "base_uri": "https://localhost:8080/"
        }
      },
      "source": [
        "score = cross_val_score(gb, X_train, y_train, n_jobs = -1, verbose = 1, scoring= 'accuracy')\n",
        "print('Accuracy score:', score.mean())"
      ],
      "execution_count": null,
      "outputs": [
        {
          "output_type": "stream",
          "text": [
            "[Parallel(n_jobs=-1)]: Using backend LokyBackend with 2 concurrent workers.\n"
          ],
          "name": "stderr"
        },
        {
          "output_type": "stream",
          "text": [
            "Accuracy score: 0.654467842914058\n"
          ],
          "name": "stdout"
        },
        {
          "output_type": "stream",
          "text": [
            "[Parallel(n_jobs=-1)]: Done   5 out of   5 | elapsed:    0.5s finished\n"
          ],
          "name": "stderr"
        }
      ]
    },
    {
      "cell_type": "markdown",
      "metadata": {
        "id": "eskjcKE1VI0z"
      },
      "source": [
        "## Fourth model 0.584 accuracy\n",
        "- classifying ball, strike, on base, out, or foul using all datasets\n",
        "- removed data leakage columns: \n",
        "  - out, result, home_final_score, away_final_score"
      ]
    },
    {
      "cell_type": "code",
      "metadata": {
        "id": "jO1s7R8UVMM0"
      },
      "source": [
        "y = df['code']\n",
        "X = df.drop(columns= 'code')\n",
        "X_train, X_test, y_train, y_test = train_test_split(X, y, test_size= 0.2, random_state= 42)"
      ],
      "execution_count": null,
      "outputs": []
    },
    {
      "cell_type": "code",
      "metadata": {
        "id": "E2iqFPgbVZuJ"
      },
      "source": [
        "gb = make_pipeline(\n",
        "    OrdinalEncoder(),\n",
        "    XGBClassifier(n_jobs= -1)\n",
        ")"
      ],
      "execution_count": null,
      "outputs": []
    },
    {
      "cell_type": "code",
      "metadata": {
        "id": "GtispPo-Z-am",
        "outputId": "020d376f-a480-4740-f9e9-ae25f792ec2d",
        "colab": {
          "base_uri": "https://localhost:8080/",
          "height": 68
        }
      },
      "source": [
        "score = cross_val_score(gb, X_train, y_train, n_jobs = -1, verbose = 1, scoring= 'accuracy')\n",
        "print('Accuracy score:', score.mean())"
      ],
      "execution_count": null,
      "outputs": [
        {
          "output_type": "stream",
          "text": [
            "[Parallel(n_jobs=-1)]: Using backend LokyBackend with 2 concurrent workers.\n"
          ],
          "name": "stderr"
        },
        {
          "output_type": "stream",
          "text": [
            "Accuracy score: 0.5849276403389033\n"
          ],
          "name": "stdout"
        },
        {
          "output_type": "stream",
          "text": [
            "[Parallel(n_jobs=-1)]: Done   5 out of   5 | elapsed:  2.8min finished\n"
          ],
          "name": "stderr"
        }
      ]
    },
    {
      "cell_type": "code",
      "metadata": {
        "id": "Wj-KMg-etqtv",
        "outputId": "878ad5e6-6cb2-471c-dbb6-e7ccbd360d53",
        "colab": {
          "base_uri": "https://localhost:8080/",
          "height": 442
        }
      },
      "source": [
        "gb.fit(X_train, y_train)"
      ],
      "execution_count": null,
      "outputs": [
        {
          "output_type": "execute_result",
          "data": {
            "text/plain": [
              "Pipeline(memory=None,\n",
              "         steps=[('ordinalencoder',\n",
              "                 OrdinalEncoder(cols=['pitch_type', 'p_throws', 'stand',\n",
              "                                      'away_team', 'home_team', 'venue_name',\n",
              "                                      'weather', 'year', 'wind_direction'],\n",
              "                                drop_invariant=False, handle_missing='value',\n",
              "                                handle_unknown='value',\n",
              "                                mapping=[{'col': 'pitch_type',\n",
              "                                          'data_type': dtype('O'),\n",
              "                                          'mapping': Changeup               1\n",
              "Four seam fastball     2\n",
              "Two seam fastball      3\n",
              "Sinker                 4\n",
              "S...\n",
              "                 XGBClassifier(base_score=0.5, booster='gbtree',\n",
              "                               colsample_bylevel=1, colsample_bynode=1,\n",
              "                               colsample_bytree=1, gamma=0, learning_rate=0.1,\n",
              "                               max_delta_step=0, max_depth=3,\n",
              "                               min_child_weight=1, missing=None,\n",
              "                               n_estimators=100, n_jobs=-1, nthread=None,\n",
              "                               objective='multi:softprob', random_state=0,\n",
              "                               reg_alpha=0, reg_lambda=1, scale_pos_weight=1,\n",
              "                               seed=None, silent=None, subsample=1,\n",
              "                               verbosity=1))],\n",
              "         verbose=False)"
            ]
          },
          "metadata": {
            "tags": []
          },
          "execution_count": 43
        }
      ]
    },
    {
      "cell_type": "markdown",
      "metadata": {
        "id": "Wh8FXhq_f8N6"
      },
      "source": [
        "## Fifth model 0.609 : 13.4 minutes to run cross-val scores\n",
        "- using at_bats and games\n",
        "- random forest\n",
        "- more features and wrangling\n",
        "- removed data leakage columns: outs, final score, "
      ]
    },
    {
      "cell_type": "code",
      "metadata": {
        "id": "8PABngZZf7Pr",
        "outputId": "dbca98b6-693f-414a-fcec-9eab5bfaff1f",
        "colab": {
          "base_uri": "https://localhost:8080/",
          "height": 544
        }
      },
      "source": [
        "rf_model = make_pipeline(\n",
        "    OrdinalEncoder(),\n",
        "    RandomForestClassifier(\n",
        "        n_jobs = -1,\n",
        "        verbose = 1\n",
        "    ),\n",
        ")\n",
        "rf_model.fit(X_train, y_train)"
      ],
      "execution_count": null,
      "outputs": [
        {
          "output_type": "stream",
          "text": [
            "[Parallel(n_jobs=-1)]: Using backend ThreadingBackend with 2 concurrent workers.\n",
            "[Parallel(n_jobs=-1)]: Done  46 tasks      | elapsed:  1.4min\n",
            "[Parallel(n_jobs=-1)]: Done 100 out of 100 | elapsed:  2.9min finished\n"
          ],
          "name": "stderr"
        },
        {
          "output_type": "execute_result",
          "data": {
            "text/plain": [
              "Pipeline(memory=None,\n",
              "         steps=[('ordinalencoder',\n",
              "                 OrdinalEncoder(cols=['p_throws', 'stand', 'away_team',\n",
              "                                      'home_team', 'venue_name', 'weather',\n",
              "                                      'year', 'wind_direction'],\n",
              "                                drop_invariant=False, handle_missing='value',\n",
              "                                handle_unknown='value',\n",
              "                                mapping=[{'col': 'p_throws',\n",
              "                                          'data_type': dtype('O'),\n",
              "                                          'mapping': R      1\n",
              "L      2\n",
              "NaN   -2\n",
              "dtype: int64},\n",
              "                                         {'col': 'stand',\n",
              "                                          'data_type': dtype('O'),\n",
              "                                          'mapp...\n",
              "                 RandomForestClassifier(bootstrap=True, ccp_alpha=0.0,\n",
              "                                        class_weight=None, criterion='gini',\n",
              "                                        max_depth=None, max_features='auto',\n",
              "                                        max_leaf_nodes=None, max_samples=None,\n",
              "                                        min_impurity_decrease=0.0,\n",
              "                                        min_impurity_split=None,\n",
              "                                        min_samples_leaf=1, min_samples_split=2,\n",
              "                                        min_weight_fraction_leaf=0.0,\n",
              "                                        n_estimators=100, n_jobs=-1,\n",
              "                                        oob_score=False, random_state=None,\n",
              "                                        verbose=1, warm_start=False))],\n",
              "         verbose=False)"
            ]
          },
          "metadata": {
            "tags": []
          },
          "execution_count": 8
        }
      ]
    },
    {
      "cell_type": "code",
      "metadata": {
        "id": "zcKFQSXNjMma",
        "outputId": "62405249-7e43-4587-a471-1d2f7a40c234",
        "colab": {
          "base_uri": "https://localhost:8080/",
          "height": 68
        }
      },
      "source": [
        "score = cross_val_score(rf_model, X_train, y_train, n_jobs = -1, verbose = 1, scoring= 'accuracy')\n",
        "print('Accuracy score:', score.mean())"
      ],
      "execution_count": null,
      "outputs": [
        {
          "output_type": "stream",
          "text": [
            "[Parallel(n_jobs=-1)]: Using backend LokyBackend with 2 concurrent workers.\n"
          ],
          "name": "stderr"
        },
        {
          "output_type": "stream",
          "text": [
            "Accuracy score: 0.6090921327549343\n"
          ],
          "name": "stdout"
        },
        {
          "output_type": "stream",
          "text": [
            "[Parallel(n_jobs=-1)]: Done   5 out of   5 | elapsed: 13.4min finished\n"
          ],
          "name": "stderr"
        }
      ]
    },
    {
      "cell_type": "markdown",
      "metadata": {
        "id": "acFGL_1Yn7Bq"
      },
      "source": [
        "### Permutation importances"
      ]
    },
    {
      "cell_type": "code",
      "metadata": {
        "id": "nYfhPjbQn5jv"
      },
      "source": [
        "perm_imp = permutation_importance(rf_model, \n",
        "                                  X_test, y_test)\n",
        "                                  #n_jobs= -1) \n",
        "                                  #random_state= 42)"
      ],
      "execution_count": null,
      "outputs": []
    },
    {
      "cell_type": "code",
      "metadata": {
        "id": "TKl2J-mFoDNk",
        "outputId": "da766cc0-3e82-43bb-f31b-b4dfb57b1aea",
        "colab": {
          "base_uri": "https://localhost:8080/",
          "height": 281
        }
      },
      "source": [
        "%matplotlib inline\n",
        "data = {\n",
        "    'importances_mean' : perm_imp['importances_mean'],\n",
        "    'importances_std' : perm_imp['importances_std']\n",
        "}\n",
        "\n",
        "perm_imp_df = pd.DataFrame(data, index= X_test.columns)\n",
        "perm_imp_df.sort_values(by = 'importances_mean', ascending= True, inplace= True)\n",
        "\n",
        "fig, ax = plt.subplots()\n",
        "fig.set_facecolor('lightgrey')\n",
        "perm_imp_df['importances_mean'].plot(kind= 'barh')\n",
        "#plt.xlabel('change in model accuracy')\n",
        "plt.title('Permutation Importance')\n",
        "plt.savefig('perm_imp_model_5.png')\n",
        "plt.show();"
      ],
      "execution_count": null,
      "outputs": [
        {
          "output_type": "display_data",
          "data": {
            "image/png": "[encoded data removed]",
            "text/plain": [
              "<Figure size 432x288 with 1 Axes>"
            ]
          },
          "metadata": {
            "tags": []
          }
        }
      ]
    },
    {
      "cell_type": "markdown",
      "metadata": {
        "id": "iXZqtsbuvh3u"
      },
      "source": [
        "## Sixth model 0.66965 : 34 seconds to run cross val score\n",
        "- logistic regression\n",
        "- same data as fifth model"
      ]
    },
    {
      "cell_type": "code",
      "metadata": {
        "id": "Gkd2ZvrJvn56",
        "outputId": "f5465e4d-bdd6-4386-b245-42e98c0dc8e5",
        "colab": {
          "base_uri": "https://localhost:8080/",
          "height": 544
        }
      },
      "source": [
        "lr = make_pipeline(\n",
        "    OrdinalEncoder(),\n",
        "    LogisticRegression(n_jobs = -1,\n",
        "                       verbose = 1),\n",
        ")\n",
        "lr.fit(X_train, y_train)"
      ],
      "execution_count": null,
      "outputs": [
        {
          "output_type": "stream",
          "text": [
            "[Parallel(n_jobs=-1)]: Using backend LokyBackend with 2 concurrent workers.\n",
            "[Parallel(n_jobs=-1)]: Done   1 out of   1 | elapsed:    8.0s finished\n"
          ],
          "name": "stderr"
        },
        {
          "output_type": "execute_result",
          "data": {
            "text/plain": [
              "Pipeline(memory=None,\n",
              "         steps=[('ordinalencoder',\n",
              "                 OrdinalEncoder(cols=['p_throws', 'stand', 'away_team',\n",
              "                                      'home_team', 'venue_name', 'weather',\n",
              "                                      'year', 'wind_direction', 'batter',\n",
              "                                      'pitcher'],\n",
              "                                drop_invariant=False, handle_missing='value',\n",
              "                                handle_unknown='value',\n",
              "                                mapping=[{'col': 'p_throws',\n",
              "                                          'data_type': dtype('O'),\n",
              "                                          'mapping': L      1\n",
              "R      2\n",
              "NaN   -2\n",
              "dtype: int64},\n",
              "                                         {'col': 'stand',\n",
              "                                          'data_typ...\n",
              "JB Shuck           1289\n",
              "Luis Sardinas      1290\n",
              "NaN                  -2\n",
              "Length: 1291, dtype: int64}],\n",
              "                                return_df=True, verbose=0)),\n",
              "                ('logisticregression',\n",
              "                 LogisticRegression(C=1.0, class_weight=None, dual=False,\n",
              "                                    fit_intercept=True, intercept_scaling=1,\n",
              "                                    l1_ratio=None, max_iter=100,\n",
              "                                    multi_class='auto', n_jobs=-1, penalty='l2',\n",
              "                                    random_state=None, solver='lbfgs',\n",
              "                                    tol=0.0001, verbose=1, warm_start=False))],\n",
              "         verbose=False)"
            ]
          },
          "metadata": {
            "tags": []
          },
          "execution_count": 277
        }
      ]
    },
    {
      "cell_type": "code",
      "metadata": {
        "id": "QV9uFP-OwBbh",
        "outputId": "0d08ae69-34cd-4f88-eefd-6f6cf69bf7e6",
        "colab": {
          "base_uri": "https://localhost:8080/",
          "height": 68
        }
      },
      "source": [
        "score = cross_val_score(lr, X_train, y_train, n_jobs = -1, verbose = 1, scoring= 'accuracy')\n",
        "print('Accuracy score:', score.mean())"
      ],
      "execution_count": null,
      "outputs": [
        {
          "output_type": "stream",
          "text": [
            "[Parallel(n_jobs=-1)]: Using backend LokyBackend with 2 concurrent workers.\n"
          ],
          "name": "stderr"
        },
        {
          "output_type": "stream",
          "text": [
            "Accuracy score: 0.6467428988150795\n"
          ],
          "name": "stdout"
        },
        {
          "output_type": "stream",
          "text": [
            "[Parallel(n_jobs=-1)]: Done   5 out of   5 | elapsed:   11.2s finished\n"
          ],
          "name": "stderr"
        }
      ]
    },
    {
      "cell_type": "code",
      "metadata": {
        "id": "UC2HbNvr8bOh"
      },
      "source": [
        "perm_imp = permutation_importance(lr, \n",
        "                                  X_test, y_test,\n",
        "                                  #n_jobs= -1, \n",
        "                                  random_state= 42)\n"
      ],
      "execution_count": null,
      "outputs": []
    },
    {
      "cell_type": "code",
      "metadata": {
        "id": "venlZAhMnmnu",
        "outputId": "061fd797-5bd2-4b18-9537-8e312e93ebf0",
        "colab": {
          "base_uri": "https://localhost:8080/",
          "height": 231
        }
      },
      "source": [
        "data = {\n",
        "    'importances_mean' : perm_imp['importances_mean'],\n",
        "    'importances_std' : perm_imp['importances_std']\n",
        "}\n",
        "\n",
        "perm_imp_df = pd.DataFrame(data, index= X_test.columns)\n",
        "perm_imp_df.sort_values(by = 'importances_mean', ascending= True, inplace= True)\n",
        "\n",
        "fig, ax = plt.subplots()\n",
        "fig.set_facecolor('lightgrey')\n",
        "fig.set_figheight(6)\n",
        "fig.set_figwidth(10)\n",
        "perm_imp_df['importances_mean'].plot(kind= 'barh')\n",
        "plt.xlabel('Change in Model Accuracy')\n",
        "plt.title('Permutation Importance for Logistic Regression')\n",
        "plt.rcParams['figure.dpi'] = 150\n",
        "#plt.savefig('perm_imp_log_reg.png')\n",
        "\n",
        "plt.show();"
      ],
      "execution_count": null,
      "outputs": [
        {
          "output_type": "error",
          "ename": "NameError",
          "evalue": "ignored",
          "traceback": [
            "\u001b[0;31m---------------------------------------------------------------------------\u001b[0m",
            "\u001b[0;31mNameError\u001b[0m                                 Traceback (most recent call last)",
            "\u001b[0;32m<ipython-input-1-2b3b71eb1708>\u001b[0m in \u001b[0;36m<module>\u001b[0;34m()\u001b[0m\n\u001b[1;32m      1\u001b[0m data = {\n\u001b[0;32m----> 2\u001b[0;31m     \u001b[0;34m'importances_mean'\u001b[0m \u001b[0;34m:\u001b[0m \u001b[0mperm_imp\u001b[0m\u001b[0;34m[\u001b[0m\u001b[0;34m'importances_mean'\u001b[0m\u001b[0;34m]\u001b[0m\u001b[0;34m,\u001b[0m\u001b[0;34m\u001b[0m\u001b[0;34m\u001b[0m\u001b[0m\n\u001b[0m\u001b[1;32m      3\u001b[0m     \u001b[0;34m'importances_std'\u001b[0m \u001b[0;34m:\u001b[0m \u001b[0mperm_imp\u001b[0m\u001b[0;34m[\u001b[0m\u001b[0;34m'importances_std'\u001b[0m\u001b[0;34m]\u001b[0m\u001b[0;34m\u001b[0m\u001b[0;34m\u001b[0m\u001b[0m\n\u001b[1;32m      4\u001b[0m }\n\u001b[1;32m      5\u001b[0m \u001b[0;34m\u001b[0m\u001b[0m\n",
            "\u001b[0;31mNameError\u001b[0m: name 'perm_imp' is not defined"
          ]
        }
      ]
    },
    {
      "cell_type": "code",
      "metadata": {
        "id": "Nff0zkcRrr_7",
        "outputId": "fdc9ccd8-ae8a-46c5-ee46-3a2a64759571",
        "colab": {
          "base_uri": "https://localhost:8080/",
          "height": 221
        }
      },
      "source": [
        "df['pitcher'].value_counts()"
      ],
      "execution_count": null,
      "outputs": [
        {
          "output_type": "execute_result",
          "data": {
            "text/plain": [
              "Justin Verlander    1177\n",
              "Chris Archer        1162\n",
              "Kyle Gibson         1129\n",
              "Rick Porcello       1127\n",
              "Jose Quintana       1117\n",
              "                    ... \n",
              "Johnny Field           1\n",
              "Scooter Gennett        1\n",
              "Mitch Garver           1\n",
              "Jeremy Bleich          1\n",
              "Josh Wilson            1\n",
              "Name: pitcher, Length: 1298, dtype: int64"
            ]
          },
          "metadata": {
            "tags": []
          },
          "execution_count": 328
        }
      ]
    },
    {
      "cell_type": "code",
      "metadata": {
        "id": "m1rtaVeLYGPm",
        "outputId": "225357c7-8d24-42b9-9f32-06627dcae437",
        "colab": {
          "base_uri": "https://localhost:8080/",
          "height": 476
        }
      },
      "source": [
        "batters = df['pitcher'].value_counts()\n",
        "batters.head(100).index"
      ],
      "execution_count": null,
      "outputs": [
        {
          "output_type": "execute_result",
          "data": {
            "text/plain": [
              "Index(['Justin Verlander', 'Chris Archer', 'Kyle Gibson', 'Rick Porcello',\n",
              "       'Jose Quintana', 'Corey Kluber', 'Cole Hamels', 'Max Scherzer',\n",
              "       'Zack Greinke', 'Mike Leake', 'James Shields', 'Mike Fiers',\n",
              "       'Dallas Keuchel', 'Jake Odorizzi', 'Chris Sale', 'Gerrit Cole',\n",
              "       'Marco Estrada', 'Gio Gonzalez', 'Masahiro Tanaka', 'Julio Teheran',\n",
              "       'Tanner Roark', 'Trevor Bauer', 'Carlos Carrasco', 'David Price',\n",
              "       'Jacob deGrom', 'Carlos Martinez', 'CC Sabathia', 'J.A. Happ',\n",
              "       'Kevin Gausman', 'Andrew Cashner', 'Ian Kennedy', 'Bartolo Colon',\n",
              "       'Jon Lester', 'Sonny Gray', 'Felix Hernandez', 'Jason Hammel',\n",
              "       'Wade Miley', 'Jake Arrieta', 'Kyle Hendricks', 'Jeff Samardzija',\n",
              "       'Danny Duffy', 'Ervin Santana', 'Hector Santiago', 'Martin Perez',\n",
              "       'Ivan Nova', 'Patrick Corbin', 'Anibal Sanchez', 'Clayton Kershaw',\n",
              "       'Johnny Cueto', 'Jeremy Hellickson', 'Yovani Gallardo',\n",
              "       'Chase Anderson', 'Jordan Zimmermann', 'Stephen Strasburg',\n",
              "       'Eduardo Rodriguez', 'Robbie Ray', 'Michael Wacha', 'Mike Foltynewicz',\n",
              "       'Francisco Liriano', 'John Lackey', 'R.A. Dickey', 'Collin McHugh',\n",
              "       'Carlos Rodon', 'Jimmy Nelson', 'Marcus Stroman', 'Luis Severino',\n",
              "       'Madison Bumgarner', 'Noah Syndergaard', 'Lance McCullers',\n",
              "       'Derek Holland', 'Kendall Graveman', 'Drew Pomeranz', 'Doug Fister',\n",
              "       'Lance Lynn', 'Chris Tillman', 'Taijuan Walker', 'Alex Wood',\n",
              "       'Matt Harvey', 'Matt Moore', 'Mike Pelfrey', 'Jhoulys Chacin',\n",
              "       'Jaime Garcia', 'Miguel Gonzalez', 'Aaron Nola', 'Sean Manaea',\n",
              "       'Josh Tomlin', 'Ubaldo Jimenez', 'James Paxton', 'Michael Pineda',\n",
              "       'Edinson Volquez', 'Ricky Nolasco', 'Matthew Boyd', 'Charlie Morton',\n",
              "       'Aaron Sanchez', 'Danny Salazar', 'Jesse Chavez', 'Dan Straily',\n",
              "       'Erasmo Ramirez', 'Michael Fulmer', 'Clayton Richard'],\n",
              "      dtype='object')"
            ]
          },
          "metadata": {
            "tags": []
          },
          "execution_count": 327
        }
      ]
    },
    {
      "cell_type": "code",
      "metadata": {
        "id": "h5jdP2uPZqqx",
        "outputId": "70893b03-e718-4ca3-867a-84e7c4973bf5",
        "colab": {
          "base_uri": "https://localhost:8080/",
          "height": 68
        }
      },
      "source": [
        "wind_dir = df['wind_direction'].value_counts()\n",
        "wind_dir.index"
      ],
      "execution_count": null,
      "outputs": [
        {
          "output_type": "execute_result",
          "data": {
            "text/plain": [
              "Index(['R to L', 'L to R', 'None', 'Out to CF', 'Out to RF', 'Out to LF',\n",
              "       'In from RF', 'In from LF', 'In from CF', 'Varies', 'Calm'],\n",
              "      dtype='object')"
            ]
          },
          "metadata": {
            "tags": []
          },
          "execution_count": 320
        }
      ]
    },
    {
      "cell_type": "code",
      "metadata": {
        "id": "XtSYrUUrBy4Z",
        "outputId": "f68dee81-49af-42d0-f45e-1724d5d7fc9f",
        "colab": {
          "base_uri": "https://localhost:8080/",
          "height": 102
        }
      },
      "source": [
        "df.columns"
      ],
      "execution_count": null,
      "outputs": [
        {
          "output_type": "execute_result",
          "data": {
            "text/plain": [
              "Index(['result', 'inning', 'pitcher_team_score', 'p_throws', 'stand', 'top',\n",
              "       'attendance', 'away_team', 'elapsed_time', 'home_team', 'venue_name',\n",
              "       'weather', 'delay', 'year', 'wind_speed', 'wind_direction',\n",
              "       'temperature', 'batter', 'pitcher'],\n",
              "      dtype='object')"
            ]
          },
          "metadata": {
            "tags": []
          },
          "execution_count": 321
        }
      ]
    },
    {
      "cell_type": "code",
      "metadata": {
        "id": "tKK8QHRjBSOO",
        "outputId": "6647e554-1c42-4acf-c0dd-1abf4a0ac638",
        "colab": {
          "base_uri": "https://localhost:8080/",
          "height": 357
        }
      },
      "source": [
        "df.iloc[0]\n"
      ],
      "execution_count": null,
      "outputs": [
        {
          "output_type": "execute_result",
          "data": {
            "text/plain": [
              "result                           Out\n",
              "inning                             1\n",
              "pitcher_team_score                 0\n",
              "p_throws                           L\n",
              "stand                              L\n",
              "top                             True\n",
              "attendance                     35055\n",
              "away_team                        sln\n",
              "elapsed_time                     184\n",
              "home_team                        chn\n",
              "venue_name             Wrigley Field\n",
              "weather                        clear\n",
              "delay                              0\n",
              "year                            2015\n",
              "wind_speed                         7\n",
              "wind_direction            In from CF\n",
              "temperature                       44\n",
              "batter                Matt Carpenter\n",
              "pitcher                   Jon Lester\n",
              "Name: 0, dtype: object"
            ]
          },
          "metadata": {
            "tags": []
          },
          "execution_count": 307
        }
      ]
    },
    {
      "cell_type": "code",
      "metadata": {
        "id": "DeCfRL2y9c48",
        "outputId": "a7c679ef-1a79-4b1f-9f93-1a22d0a8c88e",
        "colab": {
          "base_uri": "https://localhost:8080/",
          "height": 34
        }
      },
      "source": [
        "df['batter'].nunique()"
      ],
      "execution_count": null,
      "outputs": [
        {
          "output_type": "execute_result",
          "data": {
            "text/plain": [
              "100"
            ]
          },
          "metadata": {
            "tags": []
          },
          "execution_count": 282
        }
      ]
    },
    {
      "cell_type": "code",
      "metadata": {
        "id": "CwuXUpET9wTa"
      },
      "source": [
        "df.to_csv('top_100_batters.csv')"
      ],
      "execution_count": null,
      "outputs": []
    },
    {
      "cell_type": "code",
      "metadata": {
        "id": "cK0COOlU-Hu7"
      },
      "source": [
        ""
      ],
      "execution_count": null,
      "outputs": []
    },
    {
      "cell_type": "markdown",
      "metadata": {
        "id": "Gl_O-JsIw-B6"
      },
      "source": [
        "### Permutation importances"
      ]
    },
    {
      "cell_type": "code",
      "metadata": {
        "id": "3nXAkc7jlC9X",
        "outputId": "b410182d-e80a-42d6-e217-909ad4507698",
        "colab": {
          "base_uri": "https://localhost:8080/",
          "height": 476
        }
      },
      "source": [
        "xgb_model.fit(X_train, y_train)"
      ],
      "execution_count": null,
      "outputs": [
        {
          "output_type": "execute_result",
          "data": {
            "text/plain": [
              "Pipeline(memory=None,\n",
              "         steps=[('ordinalencoder',\n",
              "                 OrdinalEncoder(cols=['p_throws', 'stand', 'away_team',\n",
              "                                      'home_team', 'venue_name', 'weather',\n",
              "                                      'year', 'wind_direction', 'batter',\n",
              "                                      'pitcher'],\n",
              "                                drop_invariant=False, handle_missing='value',\n",
              "                                handle_unknown='value',\n",
              "                                mapping=[{'col': 'p_throws',\n",
              "                                          'data_type': dtype('O'),\n",
              "                                          'mapping': L      1\n",
              "R      2\n",
              "NaN   -2\n",
              "dtype: int64},\n",
              "                                         {'col': 'stand',\n",
              "                                          'data_typ...\n",
              "                 XGBClassifier(base_score=0.5, booster='gbtree',\n",
              "                               colsample_bylevel=1, colsample_bynode=1,\n",
              "                               colsample_bytree=1, gamma=0, learning_rate=0.1,\n",
              "                               max_delta_step=0, max_depth=3,\n",
              "                               min_child_weight=1, missing=None,\n",
              "                               n_estimators=100, n_jobs=1, nthread=None,\n",
              "                               objective='binary:logistic', random_state=0,\n",
              "                               reg_alpha=0, reg_lambda=1, scale_pos_weight=1,\n",
              "                               seed=None, silent=None, subsample=1,\n",
              "                               verbosity=1))],\n",
              "         verbose=False)"
            ]
          },
          "metadata": {
            "tags": []
          },
          "execution_count": 198
        }
      ]
    },
    {
      "cell_type": "code",
      "metadata": {
        "id": "O2Oz4FDbxAc-"
      },
      "source": [
        "# took over ten minutes to run\n",
        "perm_imp = permutation_importance(xgb_model, \n",
        "                                  X_test, y_test,\n",
        "                                  #n_jobs= -1, \n",
        "                                  random_state= 42)"
      ],
      "execution_count": null,
      "outputs": []
    },
    {
      "cell_type": "code",
      "metadata": {
        "id": "PdLmr8P6xI_U",
        "outputId": "a254d591-93f4-4253-f028-8c485c397b7e",
        "colab": {
          "base_uri": "https://localhost:8080/",
          "height": 294
        }
      },
      "source": [
        "%matplotlib inline\n",
        "data = {\n",
        "    'importances_mean' : perm_imp['importances_mean'],\n",
        "    'importances_std' : perm_imp['importances_std']\n",
        "}\n",
        "\n",
        "perm_imp_df = pd.DataFrame(data, index= X_test.columns)\n",
        "perm_imp_df.sort_values(by = 'importances_mean', ascending= True, inplace= True)\n",
        "\n",
        "fig, ax = plt.subplots()\n",
        "fig.set_facecolor('lightgrey')\n",
        "perm_imp_df['importances_mean'].plot(kind= 'barh')\n",
        "#plt.xlabel('change in model accuracy')\n",
        "plt.title('Permutation Importance')\n",
        "#plt.savefig('perm_imp_model_6.png')\n",
        "\n",
        "plt.show();"
      ],
      "execution_count": null,
      "outputs": [
        {
          "output_type": "display_data",
          "data": {
            "image/png": "[encoded data removed]",
            "text/plain": [
              "<Figure size 432x288 with 1 Axes>"
            ]
          },
          "metadata": {
            "tags": []
          }
        }
      ]
    },
    {
      "cell_type": "code",
      "metadata": {
        "id": "z0ivykMwPJQ_",
        "outputId": "5620adb8-ccbf-46a0-c7fe-7a60c963c2b7",
        "colab": {
          "base_uri": "https://localhost:8080/",
          "height": 357
        }
      },
      "source": [
        "df.nunique()"
      ],
      "execution_count": null,
      "outputs": [
        {
          "output_type": "execute_result",
          "data": {
            "text/plain": [
              "batter_id             342\n",
              "result                  2\n",
              "inning                 14\n",
              "pitcher_team_score     19\n",
              "p_throws                2\n",
              "pitcher_id            310\n",
              "stand                   2\n",
              "top                     2\n",
              "attendance            156\n",
              "away_team              19\n",
              "elapsed_time           78\n",
              "home_team              19\n",
              "venue_name             19\n",
              "weather                 7\n",
              "delay                   2\n",
              "year                    1\n",
              "wind_speed             21\n",
              "wind_direction         10\n",
              "temperature            37\n",
              "dtype: int64"
            ]
          },
          "metadata": {
            "tags": []
          },
          "execution_count": 73
        }
      ]
    },
    {
      "cell_type": "code",
      "metadata": {
        "id": "YMpYzRQzPS8Q",
        "outputId": "6e5e2577-aeed-49e5-978e-e2bafb670e7a",
        "colab": {
          "base_uri": "https://localhost:8080/",
          "height": 34
        }
      },
      "source": [
        "df.shape"
      ],
      "execution_count": null,
      "outputs": [
        {
          "output_type": "execute_result",
          "data": {
            "text/plain": [
              "(12193, 19)"
            ]
          },
          "metadata": {
            "tags": []
          },
          "execution_count": 74
        }
      ]
    },
    {
      "cell_type": "code",
      "metadata": {
        "id": "GBL-FtFMPDa5",
        "outputId": "772b4810-6f42-44d1-8a20-b4f61aa6a571",
        "colab": {
          "base_uri": "https://localhost:8080/",
          "height": 221
        }
      },
      "source": [
        "df['batter_id'].value_counts()"
      ],
      "execution_count": null,
      "outputs": [
        {
          "output_type": "execute_result",
          "data": {
            "text/plain": [
              "543760    602\n",
              "456714    599\n",
              "543434    597\n",
              "502210    582\n",
              "542993    553\n",
              "         ... \n",
              "518567      1\n",
              "435623      1\n",
              "544725      1\n",
              "430605      1\n",
              "475247      1\n",
              "Name: batter_id, Length: 342, dtype: int64"
            ]
          },
          "metadata": {
            "tags": []
          },
          "execution_count": 72
        }
      ]
    },
    {
      "cell_type": "code",
      "metadata": {
        "id": "a_Zn6NkR9yHN",
        "outputId": "40714982-cd64-4283-8b7e-ac2764a5fa41",
        "colab": {
          "base_uri": "https://localhost:8080/",
          "height": 85
        }
      },
      "source": [
        "data"
      ],
      "execution_count": null,
      "outputs": [
        {
          "output_type": "execute_result",
          "data": {
            "text/plain": [
              "{'importances_mean': array([0., 0., 0., 0., 0., 0., 0., 0., 0., 0., 0., 0., 0., 0., 0., 0., 0.,\n",
              "        0.]),\n",
              " 'importances_std': array([0., 0., 0., 0., 0., 0., 0., 0., 0., 0., 0., 0., 0., 0., 0., 0., 0.,\n",
              "        0.])}"
            ]
          },
          "metadata": {
            "tags": []
          },
          "execution_count": 14
        }
      ]
    },
    {
      "cell_type": "code",
      "metadata": {
        "id": "5g5VCOwC06YE",
        "outputId": "72c37a48-f59d-4faf-9bd8-72c510703622",
        "colab": {
          "base_uri": "https://localhost:8080/",
          "height": 34
        }
      },
      "source": [
        "from joblib import dump\n",
        "lr_pickle = pickle.dumps(lr)\n",
        "dump(lr, 'logreg_pickle.joblib')"
      ],
      "execution_count": null,
      "outputs": [
        {
          "output_type": "execute_result",
          "data": {
            "text/plain": [
              "['logreg_pickle.joblib']"
            ]
          },
          "metadata": {
            "tags": []
          },
          "execution_count": 32
        }
      ]
    },
    {
      "cell_type": "markdown",
      "metadata": {
        "id": "y-spRLKH3Geo"
      },
      "source": [
        "## Seventh model 0.6718 : 42 seconds to run cross val scores\n",
        "- baseline: 67.279\n",
        "- using just 2015 data of fifth and sixth models\n",
        "- xgboost"
      ]
    },
    {
      "cell_type": "code",
      "metadata": {
        "id": "pEc1mYRU3F7O",
        "outputId": "9e41fba0-2e1f-4d8b-a325-a28324509fe7",
        "colab": {
          "base_uri": "https://localhost:8080/",
          "height": 476
        }
      },
      "source": [
        "xgb = make_pipeline(\n",
        "    OrdinalEncoder(),\n",
        "    XGBClassifier()\n",
        ")\n",
        "xgb.fit(X_train, y_train)"
      ],
      "execution_count": null,
      "outputs": [
        {
          "output_type": "execute_result",
          "data": {
            "text/plain": [
              "Pipeline(memory=None,\n",
              "         steps=[('ordinalencoder',\n",
              "                 OrdinalEncoder(cols=['p_throws', 'stand', 'away_team',\n",
              "                                      'home_team', 'venue_name', 'weather',\n",
              "                                      'year', 'wind_direction'],\n",
              "                                drop_invariant=False, handle_missing='value',\n",
              "                                handle_unknown='value',\n",
              "                                mapping=[{'col': 'p_throws',\n",
              "                                          'data_type': dtype('O'),\n",
              "                                          'mapping': L      1\n",
              "R      2\n",
              "NaN   -2\n",
              "dtype: int64},\n",
              "                                         {'col': 'stand',\n",
              "                                          'data_type': dtype('O'),\n",
              "                                          'mapp...\n",
              "                 XGBClassifier(base_score=0.5, booster='gbtree',\n",
              "                               colsample_bylevel=1, colsample_bynode=1,\n",
              "                               colsample_bytree=1, gamma=0, learning_rate=0.1,\n",
              "                               max_delta_step=0, max_depth=3,\n",
              "                               min_child_weight=1, missing=None,\n",
              "                               n_estimators=100, n_jobs=1, nthread=None,\n",
              "                               objective='binary:logistic', random_state=0,\n",
              "                               reg_alpha=0, reg_lambda=1, scale_pos_weight=1,\n",
              "                               seed=None, silent=None, subsample=1,\n",
              "                               verbosity=1))],\n",
              "         verbose=False)"
            ]
          },
          "metadata": {
            "tags": []
          },
          "execution_count": 38
        }
      ]
    },
    {
      "cell_type": "code",
      "metadata": {
        "id": "LssIxm9X4cjr",
        "outputId": "ad9b6cd3-dfad-4af8-a3fb-80f66fa79730",
        "colab": {
          "base_uri": "https://localhost:8080/",
          "height": 68
        }
      },
      "source": [
        "score = cross_val_score(xgb, X_train, y_train, n_jobs = -1, verbose = 1, scoring= 'accuracy')\n",
        "print('Accuracy score:', score.mean())"
      ],
      "execution_count": null,
      "outputs": [
        {
          "output_type": "stream",
          "text": [
            "[Parallel(n_jobs=-1)]: Using backend LokyBackend with 2 concurrent workers.\n"
          ],
          "name": "stderr"
        },
        {
          "output_type": "stream",
          "text": [
            "Accuracy score: 0.6718289897837824\n"
          ],
          "name": "stdout"
        },
        {
          "output_type": "stream",
          "text": [
            "[Parallel(n_jobs=-1)]: Done   5 out of   5 | elapsed:   42.5s finished\n"
          ],
          "name": "stderr"
        }
      ]
    },
    {
      "cell_type": "markdown",
      "metadata": {
        "id": "P8nJ1fWG5Oq0"
      },
      "source": [
        "### Permutation importances"
      ]
    },
    {
      "cell_type": "code",
      "metadata": {
        "id": "G8U3OLNN5Oq2"
      },
      "source": [
        "# took \n",
        "perm_imp = permutation_importance(xgb, \n",
        "                                  X_test, y_test,\n",
        "                                  #n_jobs= -1, \n",
        "                                  random_state= 42)"
      ],
      "execution_count": null,
      "outputs": []
    },
    {
      "cell_type": "code",
      "metadata": {
        "id": "v_OPzSQb6EGS",
        "outputId": "89435a56-6d45-4124-d671-a8436829b85e",
        "colab": {
          "base_uri": "https://localhost:8080/",
          "height": 799
        }
      },
      "source": [
        "perm_imp"
      ],
      "execution_count": null,
      "outputs": [
        {
          "output_type": "execute_result",
          "data": {
            "text/plain": [
              "{'importances': array([[ 0.00000000e+00,  0.00000000e+00, -2.75201585e-05,\n",
              "          0.00000000e+00,  0.00000000e+00],\n",
              "        [ 0.00000000e+00,  0.00000000e+00,  0.00000000e+00,\n",
              "          0.00000000e+00,  0.00000000e+00],\n",
              "        [ 0.00000000e+00,  0.00000000e+00,  0.00000000e+00,\n",
              "          0.00000000e+00,  0.00000000e+00],\n",
              "        [ 0.00000000e+00,  0.00000000e+00,  0.00000000e+00,\n",
              "          0.00000000e+00,  0.00000000e+00],\n",
              "        [ 0.00000000e+00,  0.00000000e+00,  0.00000000e+00,\n",
              "          0.00000000e+00,  0.00000000e+00],\n",
              "        [ 0.00000000e+00,  0.00000000e+00,  0.00000000e+00,\n",
              "          0.00000000e+00,  0.00000000e+00],\n",
              "        [ 0.00000000e+00,  0.00000000e+00,  0.00000000e+00,\n",
              "          0.00000000e+00,  0.00000000e+00],\n",
              "        [ 0.00000000e+00,  0.00000000e+00,  0.00000000e+00,\n",
              "          0.00000000e+00,  0.00000000e+00],\n",
              "        [ 0.00000000e+00,  0.00000000e+00,  0.00000000e+00,\n",
              "          0.00000000e+00,  0.00000000e+00],\n",
              "        [-2.75201585e-05, -2.75201585e-05,  0.00000000e+00,\n",
              "          0.00000000e+00,  0.00000000e+00],\n",
              "        [ 0.00000000e+00,  0.00000000e+00,  0.00000000e+00,\n",
              "          0.00000000e+00,  0.00000000e+00],\n",
              "        [ 0.00000000e+00,  0.00000000e+00,  0.00000000e+00,\n",
              "          0.00000000e+00,  0.00000000e+00],\n",
              "        [ 0.00000000e+00,  0.00000000e+00,  0.00000000e+00,\n",
              "          0.00000000e+00,  0.00000000e+00],\n",
              "        [ 0.00000000e+00,  0.00000000e+00,  0.00000000e+00,\n",
              "          0.00000000e+00,  0.00000000e+00],\n",
              "        [ 0.00000000e+00,  0.00000000e+00,  0.00000000e+00,\n",
              "          0.00000000e+00,  0.00000000e+00],\n",
              "        [ 0.00000000e+00,  0.00000000e+00,  0.00000000e+00,\n",
              "          0.00000000e+00,  0.00000000e+00],\n",
              "        [ 0.00000000e+00,  0.00000000e+00,  0.00000000e+00,\n",
              "          0.00000000e+00,  0.00000000e+00],\n",
              "        [ 0.00000000e+00,  0.00000000e+00,  0.00000000e+00,\n",
              "          0.00000000e+00,  0.00000000e+00]]),\n",
              " 'importances_mean': array([-5.50403170e-06,  0.00000000e+00,  0.00000000e+00,  0.00000000e+00,\n",
              "         0.00000000e+00,  0.00000000e+00,  0.00000000e+00,  0.00000000e+00,\n",
              "         0.00000000e+00, -1.10080634e-05,  0.00000000e+00,  0.00000000e+00,\n",
              "         0.00000000e+00,  0.00000000e+00,  0.00000000e+00,  0.00000000e+00,\n",
              "         0.00000000e+00,  0.00000000e+00]),\n",
              " 'importances_std': array([1.10080634e-05, 0.00000000e+00, 0.00000000e+00, 0.00000000e+00,\n",
              "        0.00000000e+00, 0.00000000e+00, 0.00000000e+00, 0.00000000e+00,\n",
              "        0.00000000e+00, 1.34820692e-05, 0.00000000e+00, 0.00000000e+00,\n",
              "        0.00000000e+00, 0.00000000e+00, 0.00000000e+00, 0.00000000e+00,\n",
              "        0.00000000e+00, 0.00000000e+00])}"
            ]
          },
          "metadata": {
            "tags": []
          },
          "execution_count": 45
        }
      ]
    },
    {
      "cell_type": "code",
      "metadata": {
        "id": "fEqOwMV_5Oq7",
        "outputId": "a7ed3ee1-33d4-4628-f7ce-1e7ba31ed006",
        "colab": {
          "base_uri": "https://localhost:8080/",
          "height": 294
        }
      },
      "source": [
        "%matplotlib inline\n",
        "data = {\n",
        "    'importances_mean' : perm_imp['importances_mean'],\n",
        "    'importances_std' : perm_imp['importances_std']\n",
        "}\n",
        "\n",
        "perm_imp_df = pd.DataFrame(data, index= X_test.columns)\n",
        "perm_imp_df.sort_values(by = 'importances_mean', ascending= True, inplace= True)\n",
        "\n",
        "fig, ax = plt.subplots()\n",
        "fig.set_facecolor('lightgrey')\n",
        "perm_imp_df['importances_mean'].plot(kind= 'barh')\n",
        "#plt.xlabel('change in model accuracy')\n",
        "plt.title('Permutation Importance')\n",
        "plt.savefig('perm_imp_model_6.png')\n",
        "\n",
        "plt.show();"
      ],
      "execution_count": null,
      "outputs": [
        {
          "output_type": "display_data",
          "data": {
            "image/png": "[encoded data removed]",
            "text/plain": [
              "<Figure size 432x288 with 1 Axes>"
            ]
          },
          "metadata": {
            "tags": []
          }
        }
      ]
    },
    {
      "cell_type": "code",
      "metadata": {
        "id": "OP9uEiAR5OrD",
        "outputId": "15eb867e-348e-446e-a040-70c14f53e395",
        "colab": {
          "base_uri": "https://localhost:8080/",
          "height": 34
        }
      },
      "source": [
        "from joblib import dump\n",
        "\n",
        "dump(lr, 'logreg_pickle.joblib')"
      ],
      "execution_count": null,
      "outputs": [
        {
          "output_type": "execute_result",
          "data": {
            "text/plain": [
              "['logreg_pickle.joblib']"
            ]
          },
          "metadata": {
            "tags": []
          },
          "execution_count": 285
        }
      ]
    },
    {
      "cell_type": "code",
      "metadata": {
        "id": "3NC9vWhPBM-T"
      },
      "source": [
        "df.to_csv('2015_data.csv')"
      ],
      "execution_count": null,
      "outputs": []
    },
    {
      "cell_type": "code",
      "metadata": {
        "id": "nktW1hkf9_uI"
      },
      "source": [
        ""
      ],
      "execution_count": null,
      "outputs": []
    },
    {
      "cell_type": "markdown",
      "metadata": {
        "id": "DCuYDQv4VeBK"
      },
      "source": [
        "## PDP"
      ]
    },
    {
      "cell_type": "markdown",
      "metadata": {
        "id": "c-5mYtkgV3rL"
      },
      "source": [
        "### One feature"
      ]
    },
    {
      "cell_type": "code",
      "metadata": {
        "id": "wRvojdixRbO0"
      },
      "source": [
        "!pip install pdpbox\n",
        "!pip install shap"
      ],
      "execution_count": null,
      "outputs": []
    },
    {
      "cell_type": "code",
      "metadata": {
        "id": "raGrvGBUVs8U"
      },
      "source": [
        "from pdpbox.pdp import pdp_isolate, pdp_plot, pdp_interact, pdp_interact_plot"
      ],
      "execution_count": null,
      "outputs": []
    },
    {
      "cell_type": "code",
      "metadata": {
        "id": "prrs1SY9Rgby"
      },
      "source": [
        "feature = 'temperature'\n",
        "isolated = pdp_isolate(\n",
        "    model = gb,\n",
        "    dataset = X_test,\n",
        "    model_features = X_test.columns,\n",
        "    feature= feature,\n",
        "    num_grid_points = 70\n",
        ")\n",
        "\n",
        "pdp_plot(isolated, feature_name= feature);\n",
        "plt.xlim(0, 100)"
      ],
      "execution_count": null,
      "outputs": []
    },
    {
      "cell_type": "markdown",
      "metadata": {
        "id": "SrKvL9cmV050"
      },
      "source": [
        "### Two features"
      ]
    },
    {
      "cell_type": "code",
      "metadata": {
        "id": "zsTeM70PV0Ql"
      },
      "source": [
        "features = ['outs', 'inning']\n",
        "\n",
        "interaction = pdp_interact(\n",
        "    model= gb,\n",
        "    features = features,\n",
        "    dataset= X_test,\n",
        "    model_features= X_test.columns\n",
        ")\n",
        "\n",
        "pdp_interact_plot(interaction, plot_type= 'grid', feature_names= features);"
      ],
      "execution_count": null,
      "outputs": []
    },
    {
      "cell_type": "markdown",
      "metadata": {
        "id": "N1fIUvrtVie3"
      },
      "source": [
        "## Shapley"
      ]
    },
    {
      "cell_type": "code",
      "metadata": {
        "id": "P1JCqVO_Z7Fu"
      },
      "source": [
        "import shap"
      ],
      "execution_count": null,
      "outputs": []
    },
    {
      "cell_type": "code",
      "metadata": {
        "id": "kM1hgGUvX4pL"
      },
      "source": [
        "transformer = make_pipeline(\n",
        "    OrdinalEncoder()\n",
        ")\n",
        "X_train_transformed = transformer.fit_transform(X_train)\n",
        "X_test_transformed = transformer.transform(X_test)\n",
        "\n",
        "data = [(X_train_transformed, y_train),\n",
        "        (X_test_transformed, y_test)]\n",
        "\n",
        "model = XGBClassifier(n_jobs= -1)\n",
        "model.fit(X_train_transformed, y_train, eval_set = data)#, eval_metric= 'accuracy')"
      ],
      "execution_count": null,
      "outputs": []
    },
    {
      "cell_type": "code",
      "metadata": {
        "id": "LEh0qrwOZZWa"
      },
      "source": [
        "row = X_test.iloc[[1]]"
      ],
      "execution_count": null,
      "outputs": []
    },
    {
      "cell_type": "code",
      "metadata": {
        "id": "dWK9bMgvVkWQ"
      },
      "source": [
        "explainer = shap.TreeExplainer(model)\n",
        "row_processed = transformer.transform(row)\n",
        "shap_values = explainer.shap_values(row_processed)\n",
        "\n",
        "shap.initjs()\n",
        "\n",
        "shap.force_plot(\n",
        "    base_value= explainer.expected_value,\n",
        "    shap_values= shap_values,\n",
        "    features= row,\n",
        "    link= 'logit',\n",
        "    matplotlib = True,\n",
        "    show= False\n",
        ")\n",
        "plt.savefig('shapley.png', bbox_inches = 'tight')"
      ],
      "execution_count": null,
      "outputs": []
    },
    {
      "cell_type": "markdown",
      "metadata": {
        "id": "tiZfCaxUA8tU"
      },
      "source": [
        "## ROC Curve"
      ]
    },
    {
      "cell_type": "code",
      "metadata": {
        "id": "OVRMu991A_6a"
      },
      "source": [
        "fpr, tpr, thresholds = roc_curve(y_test, y_pred_proba)\n",
        "\n",
        "roc_curve_df = pd.DataFrame({\n",
        "    'False Positive Rate': fpr,\n",
        "    'True Positive Rate' : tpr,\n",
        "    'Thresholds': thresholds\n",
        "})\n",
        "roc"
      ],
      "execution_count": null,
      "outputs": []
    },
    {
      "cell_type": "markdown",
      "metadata": {
        "id": "BO1phtDvBAoP"
      },
      "source": [
        "## Feature Importances"
      ]
    },
    {
      "cell_type": "code",
      "metadata": {
        "id": "DdjsjRdqquH2",
        "outputId": "b4c45d71-c12e-4370-a4ea-530f50e2ac1e",
        "colab": {
          "base_uri": "https://localhost:8080/",
          "height": 163
        }
      },
      "source": [
        "importances = lr.named_steps['logisticregression'].feature_importances_"
      ],
      "execution_count": null,
      "outputs": [
        {
          "output_type": "error",
          "ename": "AttributeError",
          "evalue": "ignored",
          "traceback": [
            "\u001b[0;31m---------------------------------------------------------------------------\u001b[0m",
            "\u001b[0;31mAttributeError\u001b[0m                            Traceback (most recent call last)",
            "\u001b[0;32m<ipython-input-261-c7c264fd7fd7>\u001b[0m in \u001b[0;36m<module>\u001b[0;34m()\u001b[0m\n\u001b[0;32m----> 1\u001b[0;31m \u001b[0mimportances\u001b[0m \u001b[0;34m=\u001b[0m \u001b[0mlr\u001b[0m\u001b[0;34m.\u001b[0m\u001b[0mnamed_steps\u001b[0m\u001b[0;34m[\u001b[0m\u001b[0;34m'logisticregression'\u001b[0m\u001b[0;34m]\u001b[0m\u001b[0;34m.\u001b[0m\u001b[0mfeature_importances_\u001b[0m\u001b[0;34m\u001b[0m\u001b[0;34m\u001b[0m\u001b[0m\n\u001b[0m",
            "\u001b[0;31mAttributeError\u001b[0m: 'LogisticRegression' object has no attribute 'feature_importances_'"
          ]
        }
      ]
    },
    {
      "cell_type": "code",
      "metadata": {
        "id": "wY-eyxn3Fzxw"
      },
      "source": [
        "feat_imp = pd.Series(importances, index= X_train.columns).sort_values()"
      ],
      "execution_count": null,
      "outputs": []
    },
    {
      "cell_type": "code",
      "metadata": {
        "id": "9rO2T8UjG9gQ"
      },
      "source": [
        "print(X_train.columns)"
      ],
      "execution_count": null,
      "outputs": []
    },
    {
      "cell_type": "code",
      "metadata": {
        "id": "W-CILlxMGi1w",
        "outputId": "ed1327a3-9072-427a-aba7-9cd6335b8f05",
        "colab": {
          "base_uri": "https://localhost:8080/",
          "height": 901
        }
      },
      "source": [
        "print(feat_imp)\n",
        "\n",
        "fig, ax = plt.subplots()\n",
        "fig.set_facecolor('lightgrey')\n",
        "plt.title('Feature Importance for Random Forest Using Gini')\n",
        "feat_imp.plot(kind= 'barh', xlabel = 'feature', ylabel= 'importance');"
      ],
      "execution_count": null,
      "outputs": [
        {
          "output_type": "stream",
          "text": [
            "y0                    0.000000\n",
            "p_throws              0.000000\n",
            "pitcher_team_score    0.000000\n",
            "venue_name            0.000000\n",
            "top                   0.000000\n",
            "year                  0.000000\n",
            "weather               0.001143\n",
            "break_y               0.001258\n",
            "wind_direction        0.001487\n",
            "away_team             0.002426\n",
            "wind_speed            0.002501\n",
            "ay                    0.002566\n",
            "type_confidence       0.003086\n",
            "home_team             0.003342\n",
            "start_speed           0.003468\n",
            "x0                    0.003687\n",
            "pitcher_id            0.003745\n",
            "temperature           0.003833\n",
            "spin_rate             0.003904\n",
            "z0                    0.004414\n",
            "inning                0.004490\n",
            "batter_id             0.004973\n",
            "batter_team_score     0.005516\n",
            "on_2b                 0.005961\n",
            "on_1b                 0.006357\n",
            "end_speed             0.006520\n",
            "vx0                   0.007436\n",
            "pitch_type            0.008306\n",
            "sz_top                0.008350\n",
            "ax                    0.008528\n",
            "on_3b                 0.009331\n",
            "vy0                   0.009546\n",
            "pfx_z                 0.010030\n",
            "sz_bot                0.010173\n",
            "az                    0.011328\n",
            "outs                  0.013267\n",
            "break_length          0.013869\n",
            "stand                 0.013951\n",
            "spin_dir              0.014379\n",
            "y                     0.016434\n",
            "pfx_x                 0.016458\n",
            "break_angle           0.019960\n",
            "vz0                   0.023830\n",
            "pitch_num             0.028615\n",
            "nasty                 0.036417\n",
            "x                     0.036489\n",
            "pz                    0.038146\n",
            "px                    0.051770\n",
            "balls                 0.072911\n",
            "strikes               0.134134\n",
            "zone                  0.311666\n",
            "dtype: float32\n"
          ],
          "name": "stdout"
        }
      ]
    },
    {
      "cell_type": "markdown",
      "metadata": {
        "id": "UM_AqpLKJpXq"
      },
      "source": [
        "## Permutation importance"
      ]
    },
    {
      "cell_type": "code",
      "metadata": {
        "id": "Zfv-9WlPGtba"
      },
      "source": [
        "# perm_imp = permutation_importance(model, \n",
        "#                                   X_val, y_val, \n",
        "#                                   n_jobs= -1, \n",
        "#                                   random_state= 42)\n",
        "perm_imp = permutation_importance(gb, \n",
        "                                  X_test, y_test, \n",
        "                                  n_jobs= -1, \n",
        "                                  random_state= 42)"
      ],
      "execution_count": null,
      "outputs": []
    },
    {
      "cell_type": "code",
      "metadata": {
        "id": "NUUGNWok1qVL",
        "outputId": "287ce925-7057-4080-c5c3-f3b32bf6508b",
        "colab": {
          "base_uri": "https://localhost:8080/",
          "height": 34
        }
      },
      "source": [
        "perm_imp.keys()"
      ],
      "execution_count": null,
      "outputs": [
        {
          "output_type": "execute_result",
          "data": {
            "text/plain": [
              "dict_keys(['importances_mean', 'importances_std', 'importances'])"
            ]
          },
          "metadata": {
            "tags": []
          },
          "execution_count": 48
        }
      ]
    },
    {
      "cell_type": "code",
      "metadata": {
        "id": "zXj0OKgx1tQm",
        "outputId": "22d82bb5-4758-49bf-ef73-e9b424f699a2",
        "colab": {
          "base_uri": "https://localhost:8080/",
          "height": 281
        }
      },
      "source": [
        "%matplotlib inline\n",
        "data = {\n",
        "    'importances_mean' : perm_imp['importances_mean'],\n",
        "    'importances_std' : perm_imp['importances_std']\n",
        "}\n",
        "\n",
        "perm_imp_df = pd.DataFrame(data, index= X_test.columns)\n",
        "perm_imp_df.sort_values(by = 'importances_mean', ascending= True, inplace= True)\n",
        "\n",
        "fig, ax = plt.subplots()\n",
        "fig.set_facecolor('lightgrey')\n",
        "perm_imp_df['importances_mean'].tail(10).plot(kind= 'barh')\n",
        "#plt.xlabel('change in model accuracy')\n",
        "plt.title('Permutation Importance')\n",
        "plt.show();"
      ],
      "execution_count": null,
      "outputs": [
        {
          "output_type": "display_data",
          "data": {
            "image/png": "[encoded data removed]",
            "text/plain": [
              "<Figure size 432x288 with 1 Axes>"
            ]
          },
          "metadata": {
            "tags": []
          }
        }
      ]
    }
  ]
}